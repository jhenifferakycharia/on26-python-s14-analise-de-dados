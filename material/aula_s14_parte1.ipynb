{
 "cells": [
  {
   "cell_type": "markdown",
   "id": "abb4c976-3c7a-45aa-9675-b0d21775442d",
   "metadata": {},
   "source": [
    "#  Contextualização: Semana 14\n",
    "Nas aulas anteriores, vocês aprenderam sobre banco de dados, como funcionam, e tiveram uma breve apresentação sobre pensamento analítico e o uso da biblioteca Pandas para manipular dados. Nesta aula, iremos aprofundar nossos conhecimentos em dados. Porém, antes de tudo é importante entender um conceito importante sobre dados: o que difere um dado do banco de dados para um dado em um gráfico? O processamento dessa informação. Vamos entender melhor? \n"
   ]
  },
  {
   "cell_type": "markdown",
   "id": "b9ef450c-02cf-4446-9aea-164ab731a993",
   "metadata": {},
   "source": [
    "Existem 3 conceitos que precisamos entender, o conceito de dados, informação e conhecimento.\n",
    "\n",
    "    - Dados: são a unidade base da informação. São registros soltos sem contexto ou análise prévia.\n",
    "        - Exemplo: Ontem Maria tinha batatas.\n",
    "        \n",
    "    - Informação: É a estruturação e organização dos dados. É a matéria base para o conhecimento.\n",
    "        - Exemplo: Ontem Maria tinha batatas, hoje Maria tem 40 batatas.\n",
    "        \n",
    "    - Conhecimento: É a informação processada, que nos permite tirar ideias.\n",
    "        - Exemplo: Como Maria tinha 40 batatas ontem e hoje ela tem apenas 20, em um dia ela perdeu 50% das suas batatas.\n"
   ]
  },
  {
   "cell_type": "markdown",
   "id": "19179c66-9877-448f-8f79-bb2f0d2f7fb3",
   "metadata": {},
   "source": [
    "Agora que entendemos esses conceitos entre um dado e o conhecimento. Por que dados são tão importantes? E por que especialmente no século 21, dados viraram protagonistas? \n",
    "\n",
    "![image](noticias_dados.png)\n",
    "\n",
    "\"Os dados são o novo petróleo. É valioso, mas se não for refinado não pode realmente ser usado (...) então os dados devem ser decompostos, analisados para que tenham valor.\" - Clive Humby (Tradução livre)\n",
    "\n",
    "Essa frase foi criada por Clive Humby, um matemático londrino especializado em ciência de dados. Basicamente, ele defende que, assim como o petróleo precisa ser refinado, dados precisam ser analisados. A maior riqueza se encontra não nos dados em si, mas sim na capacidade de usá-los de forma analítica. A inteligência por trás deles é quem determina seu maior valor pois, a partir dela, serão extraídas as descobertas que irão influenciar na tomada de decisões, sejam elas grandes ou pequenas, das empresas. "
   ]
  },
  {
   "cell_type": "markdown",
   "id": "a391beab-4bef-4e5d-aa25-925f3b55af84",
   "metadata": {},
   "source": [
    "E com esse fenômeno, as empresas estão cada vez mais com uma cultura data-driven. Mas o que é a cultura data-driven?\n",
    "\n",
    "Empresas data driven são aquelas que planejam, executam e gerenciam estratégias com base em **dados**, com o objetivo de se manterem relevantes no mercado utilizando a análise de dados em suas tomadas de decisão. Empresas que seguem essa cultura, quando bem aplicadas, possuem vários benefícios, como: \n",
    "\n",
    "- **Assertividade nas previsões**: Empresas de sucesso não vivem apenas o momento presente. Elas pautam suas decisões em previsões de mercado e se preparam para possíveis mudanças. Nesse momento, nada melhor do que contar com dados e informações seguras e confiáveis. A cultura data driven promove maior assertividade para o futuro das empresas por permitir que elas se preparem para os anos seguintes com base em noções sólidas do que está por vir em suas áreas.\n",
    "\n",
    "- **Decisões mais ágeis**: A velocidade de tomada de decisões em uma empresa também diz muito sobre sua resiliência em meio às dificuldades do mercado. Com o auxílio de dados consistentes e business intelligence, as resoluções de problemas e a montagem de novas estratégias se tornam mais ágeis e pontuais.\n",
    "\n",
    "- **Serviços e produtos superiores**: É inegável que produtos e serviços direcionados, por exemplo, para personas com características embasadas em dados advindos de pesquisas de mercado e online são muito mais propensos a gerar bons resultados e autoridade do que os divulgados arbitrariamente.\n",
    "\n",
    "E no Brasil, quais empresas possuem essa cultura data-driven? \n",
    "- Itaú\n",
    "- Nubank\n",
    "- iFood\n",
    "- PicPay\n",
    "- Stone\n"
   ]
  },
  {
   "cell_type": "markdown",
   "id": "d9f0f529-5095-401b-a35d-c0021d9ea3a5",
   "metadata": {},
   "source": [
    "## Introdução à Análise de Dados\n",
    "\n",
    "A análise de dados é o processo de buscar informações relevantes a partir de dados quantitativos e qualitativos de um determinado tema. Através da análise de dados, é possível confirmar e refutar hipóteses, identificar soluções para um problema e ser mais assertivo na tomada de decisões. \n",
    "\n",
    "### Quais os tipos de análise de dados?\n",
    "#### Análise preditiva\n",
    "Neste tipo de análise, os dados são utilizados para fazer projeções e identificar tendências futuras a partir de determinados padrões previamente definidos.\n",
    "\n",
    "\n",
    "#### Análise prescritiva\n",
    "A análise prescritiva busca avaliar as consequências que certas decisões podem trazer, esse tipo de análise é geralmente utilizado para definir qual o melhor caminho para alcançar um objetivo definido. \n",
    "\n",
    "Se a análise preditiva atua na previsão de comportamentos futuros, a análise prescritiva auxilia nas tomadas de decisão com o objetivo de melhorar o alcance de resultados e reduzir cenários negativos.\n",
    "\n",
    "#### Análise descritiva\n",
    "A análise descritiva é feita em cima de dados reais e passados, é descrever certos eventos que já ocorreram. Esse tipo de análise é normalmente é utilizada como um passo anterior às análises mais robustas, a etapa de descrição é o pontapé inicial para um estudo mais aprofundado. \n",
    "\n",
    "\n",
    "#### Análise diagnóstica\n",
    "Esse tipo de análise busca investigar as causas e efeitos dos eventos e objetos analisados. \n",
    "\n",
    "Então, em resumo:\n",
    "\n",
    "![img](tipos-de-analise.png)\n",
    "\n",
    "\n",
    "E quais são as etapas da análise de dados? \n",
    "\n",
    "1. Definição do problema;\n",
    "2. Coleta dos dados;\n",
    "3. Limpeza dos dados;\n",
    "4. Análise dos dados;\n",
    "5. Interpretação e visualização dos dados.\n"
   ]
  },
  {
   "cell_type": "markdown",
   "id": "e4651cc8-b5de-4330-b551-3cc51a612195",
   "metadata": {},
   "source": [
    "**Etapa 1 – Definição do problema**\n",
    "\n",
    "Nesse primeiro momento, você precisa definir qual será o problema que você irá resolver. Estabeleça quais perguntas deverão ser respondidas.\n",
    "\n",
    "Para que tenham o efeito desejado, os objetivos devem ser claros e mensuráveis, assim, as decisões serão tomadas com maior embasamento, você evitará desperdícios e as ações serão mais eficazes.\n",
    "\n",
    "\n",
    "**Etapa 2 – Coleta dos dados**\n",
    "\n",
    "Entenda de onde você precisará buscar informação para responder suas perguntas. Alguns lugares para buscar esses dados:\n",
    "- Web scraping para coletar dados online;\n",
    "- APIs;\n",
    "- Dados públicos;\n",
    "- Kaggle;\n",
    "\n",
    "**Etapa 3 - Limpeza dos dados**\n",
    "\n",
    "A limpeza de dados é um processo de eliminar inconsistências, ou seja, registros de baixa integridade, informações duplicadas, informações nulas, erradas ou de baixa relevância. \n",
    "\n",
    "**Etapa 4 - Análise dos dados**\n",
    "\n",
    "Nessa etapa, com as tabelas prontas, começamos a manipular os dados, agrupando, ordenando, buscando por padrões e o mais importante, buscando responder as perguntas que nós fizemos no início.\n",
    "\n",
    "**Etapa 5 - Interpretação e visualização dos dados.**\n",
    "\n",
    "Nessa etapa, os questionamentos iniciais devem ser respondidos e as conclusões precisam ser tomadas. Para melhorar a forma de comunicar os resultados, desenvolvemos gráficos, tabelas agregadas que possam melhorar o entendimento dos resultados obtidos. \n",
    "\n",
    "Para explorarmos todas as etapas da análise de dados, iremos trabalhar em cima de uma base de dados da netflix.\n"
   ]
  },
  {
   "cell_type": "markdown",
   "id": "c759293d-2851-46c4-9927-377fb5a8d92f",
   "metadata": {},
   "source": [
    "## Dinâmica: Explorando os dados da Netflix\n",
    "\n",
    "Em grupo, vocês irão abrir os dados da Netflix e definir um problema para responder com os dados. Entenda o tipo de dado que estamos trabalhando, qual o tipo de dados de cada coluna (inteiros, decimais, booleanos, strings), temos dados nulos? Quais colunas precisaremos manipular?\n"
   ]
  },
  {
   "cell_type": "markdown",
   "id": "fdc4ec71-e550-4f75-99c9-6469a15fd305",
   "metadata": {
    "id": "fdc4ec71-e550-4f75-99c9-6469a15fd305"
   },
   "source": [
    "# Analisando dados da Netflix\n",
    "\n",
    "Para começar, precisamos baixar o arquivo na plataforma da Kaggle (https://www.kaggle.com/datasets/arnavsmayan/netflix-userbase-dataset)."
   ]
  },
  {
   "cell_type": "code",
   "execution_count": 1,
   "id": "d1b409ef-3728-4498-857a-eaf101941651",
   "metadata": {
    "id": "d1b409ef-3728-4498-857a-eaf101941651"
   },
   "outputs": [],
   "source": [
    "# importando os pacotes que iremos utilizar\n",
    "import pandas as pd"
   ]
  },
  {
   "cell_type": "markdown",
   "id": "655d4b43-80a1-4547-8614-96405fb6777c",
   "metadata": {
    "id": "655d4b43-80a1-4547-8614-96405fb6777c"
   },
   "source": [
    "# Coleta dos Dados\n",
    "\n",
    "A primeira etapa, de coleta, envolve baixar e importar os dados da Netflix para o nosso ambiente.\n",
    "\n",
    "Feito isso, utilizamos a função read_csv para importar o arquivo.\n",
    "\n",
    "Nosso arquivo possui 10 colunas, e todas trazem informações sobre os usuários que utilizam a plataforma."
   ]
  },
  {
   "cell_type": "code",
   "execution_count": 5,
   "id": "f67eddd2-44cf-4e53-bcb4-7159ad3c5256",
   "metadata": {
    "colab": {
     "base_uri": "https://localhost:8080/",
     "height": 503
    },
    "id": "f67eddd2-44cf-4e53-bcb4-7159ad3c5256",
    "outputId": "04e58a94-d9b5-4a86-88dd-80e642d7e7e9"
   },
   "outputs": [
    {
     "data": {
      "text/html": [
       "<div>\n",
       "<style scoped>\n",
       "    .dataframe tbody tr th:only-of-type {\n",
       "        vertical-align: middle;\n",
       "    }\n",
       "\n",
       "    .dataframe tbody tr th {\n",
       "        vertical-align: top;\n",
       "    }\n",
       "\n",
       "    .dataframe thead th {\n",
       "        text-align: right;\n",
       "    }\n",
       "</style>\n",
       "<table border=\"1\" class=\"dataframe\">\n",
       "  <thead>\n",
       "    <tr style=\"text-align: right;\">\n",
       "      <th></th>\n",
       "      <th>User ID</th>\n",
       "      <th>Subscription Type</th>\n",
       "      <th>Monthly Revenue</th>\n",
       "      <th>Join Date</th>\n",
       "      <th>Last Payment Date</th>\n",
       "      <th>Country</th>\n",
       "      <th>Age</th>\n",
       "      <th>Gender</th>\n",
       "      <th>Device</th>\n",
       "      <th>Plan Duration</th>\n",
       "    </tr>\n",
       "  </thead>\n",
       "  <tbody>\n",
       "    <tr>\n",
       "      <th>0</th>\n",
       "      <td>1</td>\n",
       "      <td>Basic</td>\n",
       "      <td>10</td>\n",
       "      <td>15-01-22</td>\n",
       "      <td>10-06-23</td>\n",
       "      <td>United States</td>\n",
       "      <td>28</td>\n",
       "      <td>Male</td>\n",
       "      <td>Smartphone</td>\n",
       "      <td>1 Month</td>\n",
       "    </tr>\n",
       "    <tr>\n",
       "      <th>1</th>\n",
       "      <td>2</td>\n",
       "      <td>Premium</td>\n",
       "      <td>15</td>\n",
       "      <td>05-09-21</td>\n",
       "      <td>22-06-23</td>\n",
       "      <td>Canada</td>\n",
       "      <td>35</td>\n",
       "      <td>Female</td>\n",
       "      <td>Tablet</td>\n",
       "      <td>1 Month</td>\n",
       "    </tr>\n",
       "    <tr>\n",
       "      <th>2</th>\n",
       "      <td>3</td>\n",
       "      <td>Standard</td>\n",
       "      <td>12</td>\n",
       "      <td>28-02-23</td>\n",
       "      <td>27-06-23</td>\n",
       "      <td>United Kingdom</td>\n",
       "      <td>42</td>\n",
       "      <td>Male</td>\n",
       "      <td>Smart TV</td>\n",
       "      <td>1 Month</td>\n",
       "    </tr>\n",
       "    <tr>\n",
       "      <th>3</th>\n",
       "      <td>4</td>\n",
       "      <td>Standard</td>\n",
       "      <td>12</td>\n",
       "      <td>10-07-22</td>\n",
       "      <td>26-06-23</td>\n",
       "      <td>Australia</td>\n",
       "      <td>51</td>\n",
       "      <td>Female</td>\n",
       "      <td>Laptop</td>\n",
       "      <td>1 Month</td>\n",
       "    </tr>\n",
       "    <tr>\n",
       "      <th>4</th>\n",
       "      <td>5</td>\n",
       "      <td>Basic</td>\n",
       "      <td>10</td>\n",
       "      <td>01-05-23</td>\n",
       "      <td>28-06-23</td>\n",
       "      <td>Germany</td>\n",
       "      <td>33</td>\n",
       "      <td>Male</td>\n",
       "      <td>Smartphone</td>\n",
       "      <td>1 Month</td>\n",
       "    </tr>\n",
       "    <tr>\n",
       "      <th>...</th>\n",
       "      <td>...</td>\n",
       "      <td>...</td>\n",
       "      <td>...</td>\n",
       "      <td>...</td>\n",
       "      <td>...</td>\n",
       "      <td>...</td>\n",
       "      <td>...</td>\n",
       "      <td>...</td>\n",
       "      <td>...</td>\n",
       "      <td>...</td>\n",
       "    </tr>\n",
       "    <tr>\n",
       "      <th>2495</th>\n",
       "      <td>2496</td>\n",
       "      <td>Premium</td>\n",
       "      <td>14</td>\n",
       "      <td>25-07-22</td>\n",
       "      <td>12-07-23</td>\n",
       "      <td>Spain</td>\n",
       "      <td>28</td>\n",
       "      <td>Female</td>\n",
       "      <td>Smart TV</td>\n",
       "      <td>1 Month</td>\n",
       "    </tr>\n",
       "    <tr>\n",
       "      <th>2496</th>\n",
       "      <td>2497</td>\n",
       "      <td>Basic</td>\n",
       "      <td>15</td>\n",
       "      <td>04-08-22</td>\n",
       "      <td>14-07-23</td>\n",
       "      <td>Spain</td>\n",
       "      <td>33</td>\n",
       "      <td>Female</td>\n",
       "      <td>Smart TV</td>\n",
       "      <td>1 Month</td>\n",
       "    </tr>\n",
       "    <tr>\n",
       "      <th>2497</th>\n",
       "      <td>2498</td>\n",
       "      <td>Standard</td>\n",
       "      <td>12</td>\n",
       "      <td>09-08-22</td>\n",
       "      <td>15-07-23</td>\n",
       "      <td>United States</td>\n",
       "      <td>38</td>\n",
       "      <td>Male</td>\n",
       "      <td>Laptop</td>\n",
       "      <td>1 Month</td>\n",
       "    </tr>\n",
       "    <tr>\n",
       "      <th>2498</th>\n",
       "      <td>2499</td>\n",
       "      <td>Standard</td>\n",
       "      <td>13</td>\n",
       "      <td>12-08-22</td>\n",
       "      <td>12-07-23</td>\n",
       "      <td>Canada</td>\n",
       "      <td>48</td>\n",
       "      <td>Female</td>\n",
       "      <td>Tablet</td>\n",
       "      <td>1 Month</td>\n",
       "    </tr>\n",
       "    <tr>\n",
       "      <th>2499</th>\n",
       "      <td>2500</td>\n",
       "      <td>Basic</td>\n",
       "      <td>15</td>\n",
       "      <td>13-08-22</td>\n",
       "      <td>12-07-23</td>\n",
       "      <td>United States</td>\n",
       "      <td>35</td>\n",
       "      <td>Female</td>\n",
       "      <td>Smart TV</td>\n",
       "      <td>1 Month</td>\n",
       "    </tr>\n",
       "  </tbody>\n",
       "</table>\n",
       "<p>2500 rows × 10 columns</p>\n",
       "</div>"
      ],
      "text/plain": [
       "      User ID Subscription Type  Monthly Revenue Join Date Last Payment Date  \\\n",
       "0           1             Basic               10  15-01-22          10-06-23   \n",
       "1           2           Premium               15  05-09-21          22-06-23   \n",
       "2           3          Standard               12  28-02-23          27-06-23   \n",
       "3           4          Standard               12  10-07-22          26-06-23   \n",
       "4           5             Basic               10  01-05-23          28-06-23   \n",
       "...       ...               ...              ...       ...               ...   \n",
       "2495     2496           Premium               14  25-07-22          12-07-23   \n",
       "2496     2497             Basic               15  04-08-22          14-07-23   \n",
       "2497     2498          Standard               12  09-08-22          15-07-23   \n",
       "2498     2499          Standard               13  12-08-22          12-07-23   \n",
       "2499     2500             Basic               15  13-08-22          12-07-23   \n",
       "\n",
       "             Country  Age  Gender      Device Plan Duration  \n",
       "0      United States   28    Male  Smartphone       1 Month  \n",
       "1             Canada   35  Female      Tablet       1 Month  \n",
       "2     United Kingdom   42    Male    Smart TV       1 Month  \n",
       "3          Australia   51  Female      Laptop       1 Month  \n",
       "4            Germany   33    Male  Smartphone       1 Month  \n",
       "...              ...  ...     ...         ...           ...  \n",
       "2495           Spain   28  Female    Smart TV       1 Month  \n",
       "2496           Spain   33  Female    Smart TV       1 Month  \n",
       "2497   United States   38    Male      Laptop       1 Month  \n",
       "2498          Canada   48  Female      Tablet       1 Month  \n",
       "2499   United States   35  Female    Smart TV       1 Month  \n",
       "\n",
       "[2500 rows x 10 columns]"
      ]
     },
     "execution_count": 5,
     "metadata": {},
     "output_type": "execute_result"
    }
   ],
   "source": [
    "# importando os dados da Netflix\n",
    "\n",
    "df_netflix = pd.read_csv('netflix.csv')\n",
    "df_netflix"
   ]
  },
  {
   "cell_type": "markdown",
   "id": "d797d654-6c0a-4df0-99eb-9cdfcf61d7d6",
   "metadata": {
    "id": "d797d654-6c0a-4df0-99eb-9cdfcf61d7d6"
   },
   "source": [
    "# Limpeza dos dados"
   ]
  },
  {
   "cell_type": "markdown",
   "id": "229b7b89-ce8d-41cc-a109-a3926574d444",
   "metadata": {
    "id": "229b7b89-ce8d-41cc-a109-a3926574d444"
   },
   "source": [
    "Vamos começar a entender como nossos dados estão. Iremos explorar os tipos de dados que temos em cada coluna, e iremos checar dados nulos."
   ]
  },
  {
   "cell_type": "code",
   "execution_count": 6,
   "id": "8dd19a1f-d5f4-4299-92c2-70c0b615e049",
   "metadata": {
    "colab": {
     "base_uri": "https://localhost:8080/"
    },
    "id": "8dd19a1f-d5f4-4299-92c2-70c0b615e049",
    "outputId": "d02a02e1-04e8-40a4-9c80-c2a8ec65bfa0"
   },
   "outputs": [
    {
     "name": "stdout",
     "output_type": "stream",
     "text": [
      "<class 'pandas.core.frame.DataFrame'>\n",
      "RangeIndex: 2500 entries, 0 to 2499\n",
      "Data columns (total 10 columns):\n",
      " #   Column             Non-Null Count  Dtype \n",
      "---  ------             --------------  ----- \n",
      " 0   User ID            2500 non-null   int64 \n",
      " 1   Subscription Type  2500 non-null   object\n",
      " 2   Monthly Revenue    2500 non-null   int64 \n",
      " 3   Join Date          2500 non-null   object\n",
      " 4   Last Payment Date  2500 non-null   object\n",
      " 5   Country            2500 non-null   object\n",
      " 6   Age                2500 non-null   int64 \n",
      " 7   Gender             2500 non-null   object\n",
      " 8   Device             2500 non-null   object\n",
      " 9   Plan Duration      2500 non-null   object\n",
      "dtypes: int64(3), object(7)\n",
      "memory usage: 195.4+ KB\n"
     ]
    }
   ],
   "source": [
    "df_netflix.info()"
   ]
  },
  {
   "cell_type": "markdown",
   "id": "2c2a0bdc-fa1e-4c4c-8bc7-4a10efd96292",
   "metadata": {
    "id": "2c2a0bdc-fa1e-4c4c-8bc7-4a10efd96292"
   },
   "source": [
    "Com a função info() observamos que não temos dados nulos, vamos confirmar? Depois, iremos renomear as colunas para português e transformar a informação de algumas colunas."
   ]
  },
  {
   "cell_type": "code",
   "execution_count": 7,
   "id": "8fd76bdc-5790-404a-85f7-233bc8c13bbf",
   "metadata": {
    "colab": {
     "base_uri": "https://localhost:8080/"
    },
    "id": "8fd76bdc-5790-404a-85f7-233bc8c13bbf",
    "outputId": "3949b855-cce8-4b06-f0af-0d0f9be0b8e7"
   },
   "outputs": [
    {
     "data": {
      "text/plain": [
       "User ID              0\n",
       "Subscription Type    0\n",
       "Monthly Revenue      0\n",
       "Join Date            0\n",
       "Last Payment Date    0\n",
       "Country              0\n",
       "Age                  0\n",
       "Gender               0\n",
       "Device               0\n",
       "Plan Duration        0\n",
       "dtype: int64"
      ]
     },
     "execution_count": 7,
     "metadata": {},
     "output_type": "execute_result"
    }
   ],
   "source": [
    "df_netflix.isnull().sum()"
   ]
  },
  {
   "cell_type": "markdown",
   "id": "bae68532-030d-4176-936e-96e3c128cb3c",
   "metadata": {
    "id": "bae68532-030d-4176-936e-96e3c128cb3c"
   },
   "source": [
    "Agora, com os dados transformados, vamos analisá-los!"
   ]
  },
  {
   "cell_type": "markdown",
   "id": "53008e25-837d-42ff-a70e-f03b83ccb7e8",
   "metadata": {
    "id": "53008e25-837d-42ff-a70e-f03b83ccb7e8"
   },
   "source": [
    "# Analisando os dados\n",
    "\n",
    "Iniciando nossa análise exploratória, é importante entendermos os nossos dados de forma geral. Para isso, podemos rodar o comando describe() para trazer as estatísticas descritivas das colunas numéricas da nossa tabela.\n",
    "\n",
    "**id_usuario**: essa coluna é uma coluna de identificador, então as estatísticas aqui mostradas não possuem valor para nós, vamos ignorá-las.\n",
    "\n",
    "**receita_mensal:** a partir das estatísticas extraídas dessa coluna, podemos notar que, a média da receita mensal por usuário é cerca de $12.5.\n",
    "\n",
    "**idade_usuario:** a idade média dos usuários que adquiriram a assinatura da netflix é de 38 anos, com a idade mínima de 26 anos e máxima de 51.\n",
    "\n",
    "**país:** o país que teve mais assinatura foi os Estados Unidos, com 451 pessoas assinantes.\n",
    "\n",
    " "
   ]
  },
  {
   "cell_type": "code",
   "execution_count": 8,
   "id": "38c44a64-376e-4a42-9e97-30da147f5e83",
   "metadata": {
    "colab": {
     "base_uri": "https://localhost:8080/",
     "height": 300
    },
    "id": "38c44a64-376e-4a42-9e97-30da147f5e83",
    "outputId": "79ba14e0-24a5-4476-8d83-a17b25b2eb47"
   },
   "outputs": [
    {
     "data": {
      "text/html": [
       "<div>\n",
       "<style scoped>\n",
       "    .dataframe tbody tr th:only-of-type {\n",
       "        vertical-align: middle;\n",
       "    }\n",
       "\n",
       "    .dataframe tbody tr th {\n",
       "        vertical-align: top;\n",
       "    }\n",
       "\n",
       "    .dataframe thead th {\n",
       "        text-align: right;\n",
       "    }\n",
       "</style>\n",
       "<table border=\"1\" class=\"dataframe\">\n",
       "  <thead>\n",
       "    <tr style=\"text-align: right;\">\n",
       "      <th></th>\n",
       "      <th>count</th>\n",
       "      <th>unique</th>\n",
       "      <th>top</th>\n",
       "      <th>freq</th>\n",
       "      <th>mean</th>\n",
       "      <th>std</th>\n",
       "      <th>min</th>\n",
       "      <th>25%</th>\n",
       "      <th>50%</th>\n",
       "      <th>75%</th>\n",
       "      <th>max</th>\n",
       "    </tr>\n",
       "  </thead>\n",
       "  <tbody>\n",
       "    <tr>\n",
       "      <th>User ID</th>\n",
       "      <td>2500.0</td>\n",
       "      <td>NaN</td>\n",
       "      <td>NaN</td>\n",
       "      <td>NaN</td>\n",
       "      <td>1250.5</td>\n",
       "      <td>721.83216</td>\n",
       "      <td>1.0</td>\n",
       "      <td>625.75</td>\n",
       "      <td>1250.5</td>\n",
       "      <td>1875.25</td>\n",
       "      <td>2500.0</td>\n",
       "    </tr>\n",
       "    <tr>\n",
       "      <th>Subscription Type</th>\n",
       "      <td>2500</td>\n",
       "      <td>3</td>\n",
       "      <td>Basic</td>\n",
       "      <td>999</td>\n",
       "      <td>NaN</td>\n",
       "      <td>NaN</td>\n",
       "      <td>NaN</td>\n",
       "      <td>NaN</td>\n",
       "      <td>NaN</td>\n",
       "      <td>NaN</td>\n",
       "      <td>NaN</td>\n",
       "    </tr>\n",
       "    <tr>\n",
       "      <th>Monthly Revenue</th>\n",
       "      <td>2500.0</td>\n",
       "      <td>NaN</td>\n",
       "      <td>NaN</td>\n",
       "      <td>NaN</td>\n",
       "      <td>12.5084</td>\n",
       "      <td>1.686851</td>\n",
       "      <td>10.0</td>\n",
       "      <td>11.0</td>\n",
       "      <td>12.0</td>\n",
       "      <td>14.0</td>\n",
       "      <td>15.0</td>\n",
       "    </tr>\n",
       "    <tr>\n",
       "      <th>Join Date</th>\n",
       "      <td>2500</td>\n",
       "      <td>300</td>\n",
       "      <td>05-11-22</td>\n",
       "      <td>33</td>\n",
       "      <td>NaN</td>\n",
       "      <td>NaN</td>\n",
       "      <td>NaN</td>\n",
       "      <td>NaN</td>\n",
       "      <td>NaN</td>\n",
       "      <td>NaN</td>\n",
       "      <td>NaN</td>\n",
       "    </tr>\n",
       "    <tr>\n",
       "      <th>Last Payment Date</th>\n",
       "      <td>2500</td>\n",
       "      <td>26</td>\n",
       "      <td>28-06-23</td>\n",
       "      <td>164</td>\n",
       "      <td>NaN</td>\n",
       "      <td>NaN</td>\n",
       "      <td>NaN</td>\n",
       "      <td>NaN</td>\n",
       "      <td>NaN</td>\n",
       "      <td>NaN</td>\n",
       "      <td>NaN</td>\n",
       "    </tr>\n",
       "    <tr>\n",
       "      <th>Country</th>\n",
       "      <td>2500</td>\n",
       "      <td>10</td>\n",
       "      <td>United States</td>\n",
       "      <td>451</td>\n",
       "      <td>NaN</td>\n",
       "      <td>NaN</td>\n",
       "      <td>NaN</td>\n",
       "      <td>NaN</td>\n",
       "      <td>NaN</td>\n",
       "      <td>NaN</td>\n",
       "      <td>NaN</td>\n",
       "    </tr>\n",
       "    <tr>\n",
       "      <th>Age</th>\n",
       "      <td>2500.0</td>\n",
       "      <td>NaN</td>\n",
       "      <td>NaN</td>\n",
       "      <td>NaN</td>\n",
       "      <td>38.7956</td>\n",
       "      <td>7.171778</td>\n",
       "      <td>26.0</td>\n",
       "      <td>32.0</td>\n",
       "      <td>39.0</td>\n",
       "      <td>45.0</td>\n",
       "      <td>51.0</td>\n",
       "    </tr>\n",
       "    <tr>\n",
       "      <th>Gender</th>\n",
       "      <td>2500</td>\n",
       "      <td>2</td>\n",
       "      <td>Female</td>\n",
       "      <td>1257</td>\n",
       "      <td>NaN</td>\n",
       "      <td>NaN</td>\n",
       "      <td>NaN</td>\n",
       "      <td>NaN</td>\n",
       "      <td>NaN</td>\n",
       "      <td>NaN</td>\n",
       "      <td>NaN</td>\n",
       "    </tr>\n",
       "    <tr>\n",
       "      <th>Device</th>\n",
       "      <td>2500</td>\n",
       "      <td>4</td>\n",
       "      <td>Laptop</td>\n",
       "      <td>636</td>\n",
       "      <td>NaN</td>\n",
       "      <td>NaN</td>\n",
       "      <td>NaN</td>\n",
       "      <td>NaN</td>\n",
       "      <td>NaN</td>\n",
       "      <td>NaN</td>\n",
       "      <td>NaN</td>\n",
       "    </tr>\n",
       "    <tr>\n",
       "      <th>Plan Duration</th>\n",
       "      <td>2500</td>\n",
       "      <td>1</td>\n",
       "      <td>1 Month</td>\n",
       "      <td>2500</td>\n",
       "      <td>NaN</td>\n",
       "      <td>NaN</td>\n",
       "      <td>NaN</td>\n",
       "      <td>NaN</td>\n",
       "      <td>NaN</td>\n",
       "      <td>NaN</td>\n",
       "      <td>NaN</td>\n",
       "    </tr>\n",
       "  </tbody>\n",
       "</table>\n",
       "</div>"
      ],
      "text/plain": [
       "                    count unique            top  freq     mean        std  \\\n",
       "User ID            2500.0    NaN            NaN   NaN   1250.5  721.83216   \n",
       "Subscription Type    2500      3          Basic   999      NaN        NaN   \n",
       "Monthly Revenue    2500.0    NaN            NaN   NaN  12.5084   1.686851   \n",
       "Join Date            2500    300       05-11-22    33      NaN        NaN   \n",
       "Last Payment Date    2500     26       28-06-23   164      NaN        NaN   \n",
       "Country              2500     10  United States   451      NaN        NaN   \n",
       "Age                2500.0    NaN            NaN   NaN  38.7956   7.171778   \n",
       "Gender               2500      2         Female  1257      NaN        NaN   \n",
       "Device               2500      4         Laptop   636      NaN        NaN   \n",
       "Plan Duration        2500      1        1 Month  2500      NaN        NaN   \n",
       "\n",
       "                    min     25%     50%      75%     max  \n",
       "User ID             1.0  625.75  1250.5  1875.25  2500.0  \n",
       "Subscription Type   NaN     NaN     NaN      NaN     NaN  \n",
       "Monthly Revenue    10.0    11.0    12.0     14.0    15.0  \n",
       "Join Date           NaN     NaN     NaN      NaN     NaN  \n",
       "Last Payment Date   NaN     NaN     NaN      NaN     NaN  \n",
       "Country             NaN     NaN     NaN      NaN     NaN  \n",
       "Age                26.0    32.0    39.0     45.0    51.0  \n",
       "Gender              NaN     NaN     NaN      NaN     NaN  \n",
       "Device              NaN     NaN     NaN      NaN     NaN  \n",
       "Plan Duration       NaN     NaN     NaN      NaN     NaN  "
      ]
     },
     "execution_count": 8,
     "metadata": {},
     "output_type": "execute_result"
    }
   ],
   "source": [
    "df_netflix.describe(include='all').T"
   ]
  },
  {
   "cell_type": "code",
   "execution_count": 9,
   "id": "6c92835d-cf0f-4e1e-ab1b-e95ca3750f5a",
   "metadata": {},
   "outputs": [
    {
     "data": {
      "text/html": [
       "<div>\n",
       "<style scoped>\n",
       "    .dataframe tbody tr th:only-of-type {\n",
       "        vertical-align: middle;\n",
       "    }\n",
       "\n",
       "    .dataframe tbody tr th {\n",
       "        vertical-align: top;\n",
       "    }\n",
       "\n",
       "    .dataframe thead th {\n",
       "        text-align: right;\n",
       "    }\n",
       "</style>\n",
       "<table border=\"1\" class=\"dataframe\">\n",
       "  <thead>\n",
       "    <tr style=\"text-align: right;\">\n",
       "      <th></th>\n",
       "      <th>User ID</th>\n",
       "      <th>Subscription Type</th>\n",
       "      <th>Monthly Revenue</th>\n",
       "      <th>Join Date</th>\n",
       "      <th>Last Payment Date</th>\n",
       "      <th>Country</th>\n",
       "      <th>Age</th>\n",
       "      <th>Gender</th>\n",
       "      <th>Device</th>\n",
       "      <th>Plan Duration</th>\n",
       "    </tr>\n",
       "  </thead>\n",
       "  <tbody>\n",
       "    <tr>\n",
       "      <th>0</th>\n",
       "      <td>1</td>\n",
       "      <td>Basic</td>\n",
       "      <td>10</td>\n",
       "      <td>15-01-22</td>\n",
       "      <td>10-06-23</td>\n",
       "      <td>United States</td>\n",
       "      <td>28</td>\n",
       "      <td>Male</td>\n",
       "      <td>Smartphone</td>\n",
       "      <td>1 Month</td>\n",
       "    </tr>\n",
       "    <tr>\n",
       "      <th>1</th>\n",
       "      <td>2</td>\n",
       "      <td>Premium</td>\n",
       "      <td>15</td>\n",
       "      <td>05-09-21</td>\n",
       "      <td>22-06-23</td>\n",
       "      <td>Canada</td>\n",
       "      <td>35</td>\n",
       "      <td>Female</td>\n",
       "      <td>Tablet</td>\n",
       "      <td>1 Month</td>\n",
       "    </tr>\n",
       "    <tr>\n",
       "      <th>2</th>\n",
       "      <td>3</td>\n",
       "      <td>Standard</td>\n",
       "      <td>12</td>\n",
       "      <td>28-02-23</td>\n",
       "      <td>27-06-23</td>\n",
       "      <td>United Kingdom</td>\n",
       "      <td>42</td>\n",
       "      <td>Male</td>\n",
       "      <td>Smart TV</td>\n",
       "      <td>1 Month</td>\n",
       "    </tr>\n",
       "    <tr>\n",
       "      <th>3</th>\n",
       "      <td>4</td>\n",
       "      <td>Standard</td>\n",
       "      <td>12</td>\n",
       "      <td>10-07-22</td>\n",
       "      <td>26-06-23</td>\n",
       "      <td>Australia</td>\n",
       "      <td>51</td>\n",
       "      <td>Female</td>\n",
       "      <td>Laptop</td>\n",
       "      <td>1 Month</td>\n",
       "    </tr>\n",
       "    <tr>\n",
       "      <th>4</th>\n",
       "      <td>5</td>\n",
       "      <td>Basic</td>\n",
       "      <td>10</td>\n",
       "      <td>01-05-23</td>\n",
       "      <td>28-06-23</td>\n",
       "      <td>Germany</td>\n",
       "      <td>33</td>\n",
       "      <td>Male</td>\n",
       "      <td>Smartphone</td>\n",
       "      <td>1 Month</td>\n",
       "    </tr>\n",
       "    <tr>\n",
       "      <th>...</th>\n",
       "      <td>...</td>\n",
       "      <td>...</td>\n",
       "      <td>...</td>\n",
       "      <td>...</td>\n",
       "      <td>...</td>\n",
       "      <td>...</td>\n",
       "      <td>...</td>\n",
       "      <td>...</td>\n",
       "      <td>...</td>\n",
       "      <td>...</td>\n",
       "    </tr>\n",
       "    <tr>\n",
       "      <th>2495</th>\n",
       "      <td>2496</td>\n",
       "      <td>Premium</td>\n",
       "      <td>14</td>\n",
       "      <td>25-07-22</td>\n",
       "      <td>12-07-23</td>\n",
       "      <td>Spain</td>\n",
       "      <td>28</td>\n",
       "      <td>Female</td>\n",
       "      <td>Smart TV</td>\n",
       "      <td>1 Month</td>\n",
       "    </tr>\n",
       "    <tr>\n",
       "      <th>2496</th>\n",
       "      <td>2497</td>\n",
       "      <td>Basic</td>\n",
       "      <td>15</td>\n",
       "      <td>04-08-22</td>\n",
       "      <td>14-07-23</td>\n",
       "      <td>Spain</td>\n",
       "      <td>33</td>\n",
       "      <td>Female</td>\n",
       "      <td>Smart TV</td>\n",
       "      <td>1 Month</td>\n",
       "    </tr>\n",
       "    <tr>\n",
       "      <th>2497</th>\n",
       "      <td>2498</td>\n",
       "      <td>Standard</td>\n",
       "      <td>12</td>\n",
       "      <td>09-08-22</td>\n",
       "      <td>15-07-23</td>\n",
       "      <td>United States</td>\n",
       "      <td>38</td>\n",
       "      <td>Male</td>\n",
       "      <td>Laptop</td>\n",
       "      <td>1 Month</td>\n",
       "    </tr>\n",
       "    <tr>\n",
       "      <th>2498</th>\n",
       "      <td>2499</td>\n",
       "      <td>Standard</td>\n",
       "      <td>13</td>\n",
       "      <td>12-08-22</td>\n",
       "      <td>12-07-23</td>\n",
       "      <td>Canada</td>\n",
       "      <td>48</td>\n",
       "      <td>Female</td>\n",
       "      <td>Tablet</td>\n",
       "      <td>1 Month</td>\n",
       "    </tr>\n",
       "    <tr>\n",
       "      <th>2499</th>\n",
       "      <td>2500</td>\n",
       "      <td>Basic</td>\n",
       "      <td>15</td>\n",
       "      <td>13-08-22</td>\n",
       "      <td>12-07-23</td>\n",
       "      <td>United States</td>\n",
       "      <td>35</td>\n",
       "      <td>Female</td>\n",
       "      <td>Smart TV</td>\n",
       "      <td>1 Month</td>\n",
       "    </tr>\n",
       "  </tbody>\n",
       "</table>\n",
       "<p>2500 rows × 10 columns</p>\n",
       "</div>"
      ],
      "text/plain": [
       "      User ID Subscription Type  Monthly Revenue Join Date Last Payment Date  \\\n",
       "0           1             Basic               10  15-01-22          10-06-23   \n",
       "1           2           Premium               15  05-09-21          22-06-23   \n",
       "2           3          Standard               12  28-02-23          27-06-23   \n",
       "3           4          Standard               12  10-07-22          26-06-23   \n",
       "4           5             Basic               10  01-05-23          28-06-23   \n",
       "...       ...               ...              ...       ...               ...   \n",
       "2495     2496           Premium               14  25-07-22          12-07-23   \n",
       "2496     2497             Basic               15  04-08-22          14-07-23   \n",
       "2497     2498          Standard               12  09-08-22          15-07-23   \n",
       "2498     2499          Standard               13  12-08-22          12-07-23   \n",
       "2499     2500             Basic               15  13-08-22          12-07-23   \n",
       "\n",
       "             Country  Age  Gender      Device Plan Duration  \n",
       "0      United States   28    Male  Smartphone       1 Month  \n",
       "1             Canada   35  Female      Tablet       1 Month  \n",
       "2     United Kingdom   42    Male    Smart TV       1 Month  \n",
       "3          Australia   51  Female      Laptop       1 Month  \n",
       "4            Germany   33    Male  Smartphone       1 Month  \n",
       "...              ...  ...     ...         ...           ...  \n",
       "2495           Spain   28  Female    Smart TV       1 Month  \n",
       "2496           Spain   33  Female    Smart TV       1 Month  \n",
       "2497   United States   38    Male      Laptop       1 Month  \n",
       "2498          Canada   48  Female      Tablet       1 Month  \n",
       "2499   United States   35  Female    Smart TV       1 Month  \n",
       "\n",
       "[2500 rows x 10 columns]"
      ]
     },
     "execution_count": 9,
     "metadata": {},
     "output_type": "execute_result"
    }
   ],
   "source": [
    "df_netflix"
   ]
  },
  {
   "cell_type": "code",
   "execution_count": 10,
   "id": "6be73248-4511-4811-89d9-fd90491260fc",
   "metadata": {
    "colab": {
     "base_uri": "https://localhost:8080/",
     "height": 488
    },
    "id": "6be73248-4511-4811-89d9-fd90491260fc",
    "outputId": "00a9ebfc-2856-4cc8-9e16-76edd44d37b8"
   },
   "outputs": [
    {
     "ename": "TypeError",
     "evalue": "unsupported operand type(s) for -: 'str' and 'str'",
     "output_type": "error",
     "traceback": [
      "\u001b[1;31m---------------------------------------------------------------------------\u001b[0m",
      "\u001b[1;31mTypeError\u001b[0m                                 Traceback (most recent call last)",
      "File \u001b[1;32m~\\AppData\\Local\\Packages\\PythonSoftwareFoundation.Python.3.10_qbz5n2kfra8p0\\LocalCache\\local-packages\\Python310\\site-packages\\pandas\\core\\ops\\array_ops.py:220\u001b[0m, in \u001b[0;36m_na_arithmetic_op\u001b[1;34m(left, right, op, is_cmp)\u001b[0m\n\u001b[0;32m    219\u001b[0m \u001b[39mtry\u001b[39;00m:\n\u001b[1;32m--> 220\u001b[0m     result \u001b[39m=\u001b[39m func(left, right)\n\u001b[0;32m    221\u001b[0m \u001b[39mexcept\u001b[39;00m \u001b[39mTypeError\u001b[39;00m:\n",
      "File \u001b[1;32m~\\AppData\\Local\\Packages\\PythonSoftwareFoundation.Python.3.10_qbz5n2kfra8p0\\LocalCache\\local-packages\\Python310\\site-packages\\pandas\\core\\computation\\expressions.py:242\u001b[0m, in \u001b[0;36mevaluate\u001b[1;34m(op, a, b, use_numexpr)\u001b[0m\n\u001b[0;32m    240\u001b[0m     \u001b[39mif\u001b[39;00m use_numexpr:\n\u001b[0;32m    241\u001b[0m         \u001b[39m# error: \"None\" not callable\u001b[39;00m\n\u001b[1;32m--> 242\u001b[0m         \u001b[39mreturn\u001b[39;00m _evaluate(op, op_str, a, b)  \u001b[39m# type: ignore[misc]\u001b[39;00m\n\u001b[0;32m    243\u001b[0m \u001b[39mreturn\u001b[39;00m _evaluate_standard(op, op_str, a, b)\n",
      "File \u001b[1;32m~\\AppData\\Local\\Packages\\PythonSoftwareFoundation.Python.3.10_qbz5n2kfra8p0\\LocalCache\\local-packages\\Python310\\site-packages\\pandas\\core\\computation\\expressions.py:73\u001b[0m, in \u001b[0;36m_evaluate_standard\u001b[1;34m(op, op_str, a, b)\u001b[0m\n\u001b[0;32m     72\u001b[0m     _store_test_result(\u001b[39mFalse\u001b[39;00m)\n\u001b[1;32m---> 73\u001b[0m \u001b[39mreturn\u001b[39;00m op(a, b)\n",
      "\u001b[1;31mTypeError\u001b[0m: unsupported operand type(s) for -: 'str' and 'str'",
      "\nDuring handling of the above exception, another exception occurred:\n",
      "\u001b[1;31mTypeError\u001b[0m                                 Traceback (most recent call last)",
      "\u001b[1;32mc:\\Users\\jheni\\on26-python-s14-analise-de-dados\\material\\aula_s14_parte1.ipynb Cell 21\u001b[0m line \u001b[0;36m2\n\u001b[0;32m      <a href='vscode-notebook-cell:/c%3A/Users/jheni/on26-python-s14-analise-de-dados/material/aula_s14_parte1.ipynb#X26sZmlsZQ%3D%3D?line=0'>1</a>\u001b[0m \u001b[39m# há quanto tempo as pessoas estão inscritas na Netflix?\u001b[39;00m\n\u001b[1;32m----> <a href='vscode-notebook-cell:/c%3A/Users/jheni/on26-python-s14-analise-de-dados/material/aula_s14_parte1.ipynb#X26sZmlsZQ%3D%3D?line=1'>2</a>\u001b[0m df_netflix[\u001b[39m'\u001b[39m\u001b[39mduracao_assinatura\u001b[39m\u001b[39m'\u001b[39m] \u001b[39m=\u001b[39m df_netflix[\u001b[39m'\u001b[39;49m\u001b[39mLast Payment Date\u001b[39;49m\u001b[39m'\u001b[39;49m] \u001b[39m-\u001b[39;49m df_netflix[\u001b[39m'\u001b[39;49m\u001b[39mJoin Date\u001b[39;49m\u001b[39m'\u001b[39;49m]\n\u001b[0;32m      <a href='vscode-notebook-cell:/c%3A/Users/jheni/on26-python-s14-analise-de-dados/material/aula_s14_parte1.ipynb#X26sZmlsZQ%3D%3D?line=2'>3</a>\u001b[0m df_netflix[\u001b[39m'\u001b[39m\u001b[39mduracao_assinatura\u001b[39m\u001b[39m'\u001b[39m] \u001b[39m=\u001b[39m df_netflix[\u001b[39m'\u001b[39m\u001b[39mduracao_assinatura\u001b[39m\u001b[39m'\u001b[39m]\u001b[39m.\u001b[39mdt\u001b[39m.\u001b[39mdays\n\u001b[0;32m      <a href='vscode-notebook-cell:/c%3A/Users/jheni/on26-python-s14-analise-de-dados/material/aula_s14_parte1.ipynb#X26sZmlsZQ%3D%3D?line=3'>4</a>\u001b[0m df_netflix\n",
      "File \u001b[1;32m~\\AppData\\Local\\Packages\\PythonSoftwareFoundation.Python.3.10_qbz5n2kfra8p0\\LocalCache\\local-packages\\Python310\\site-packages\\pandas\\core\\ops\\common.py:76\u001b[0m, in \u001b[0;36m_unpack_zerodim_and_defer.<locals>.new_method\u001b[1;34m(self, other)\u001b[0m\n\u001b[0;32m     72\u001b[0m             \u001b[39mreturn\u001b[39;00m \u001b[39mNotImplemented\u001b[39m\n\u001b[0;32m     74\u001b[0m other \u001b[39m=\u001b[39m item_from_zerodim(other)\n\u001b[1;32m---> 76\u001b[0m \u001b[39mreturn\u001b[39;00m method(\u001b[39mself\u001b[39;49m, other)\n",
      "File \u001b[1;32m~\\AppData\\Local\\Packages\\PythonSoftwareFoundation.Python.3.10_qbz5n2kfra8p0\\LocalCache\\local-packages\\Python310\\site-packages\\pandas\\core\\arraylike.py:194\u001b[0m, in \u001b[0;36mOpsMixin.__sub__\u001b[1;34m(self, other)\u001b[0m\n\u001b[0;32m    192\u001b[0m \u001b[39m@unpack_zerodim_and_defer\u001b[39m(\u001b[39m\"\u001b[39m\u001b[39m__sub__\u001b[39m\u001b[39m\"\u001b[39m)\n\u001b[0;32m    193\u001b[0m \u001b[39mdef\u001b[39;00m \u001b[39m__sub__\u001b[39m(\u001b[39mself\u001b[39m, other):\n\u001b[1;32m--> 194\u001b[0m     \u001b[39mreturn\u001b[39;00m \u001b[39mself\u001b[39;49m\u001b[39m.\u001b[39;49m_arith_method(other, operator\u001b[39m.\u001b[39;49msub)\n",
      "File \u001b[1;32m~\\AppData\\Local\\Packages\\PythonSoftwareFoundation.Python.3.10_qbz5n2kfra8p0\\LocalCache\\local-packages\\Python310\\site-packages\\pandas\\core\\series.py:5815\u001b[0m, in \u001b[0;36mSeries._arith_method\u001b[1;34m(self, other, op)\u001b[0m\n\u001b[0;32m   5813\u001b[0m \u001b[39mdef\u001b[39;00m \u001b[39m_arith_method\u001b[39m(\u001b[39mself\u001b[39m, other, op):\n\u001b[0;32m   5814\u001b[0m     \u001b[39mself\u001b[39m, other \u001b[39m=\u001b[39m \u001b[39mself\u001b[39m\u001b[39m.\u001b[39m_align_for_op(other)\n\u001b[1;32m-> 5815\u001b[0m     \u001b[39mreturn\u001b[39;00m base\u001b[39m.\u001b[39;49mIndexOpsMixin\u001b[39m.\u001b[39;49m_arith_method(\u001b[39mself\u001b[39;49m, other, op)\n",
      "File \u001b[1;32m~\\AppData\\Local\\Packages\\PythonSoftwareFoundation.Python.3.10_qbz5n2kfra8p0\\LocalCache\\local-packages\\Python310\\site-packages\\pandas\\core\\base.py:1381\u001b[0m, in \u001b[0;36mIndexOpsMixin._arith_method\u001b[1;34m(self, other, op)\u001b[0m\n\u001b[0;32m   1378\u001b[0m     rvalues \u001b[39m=\u001b[39m np\u001b[39m.\u001b[39marange(rvalues\u001b[39m.\u001b[39mstart, rvalues\u001b[39m.\u001b[39mstop, rvalues\u001b[39m.\u001b[39mstep)\n\u001b[0;32m   1380\u001b[0m \u001b[39mwith\u001b[39;00m np\u001b[39m.\u001b[39merrstate(\u001b[39mall\u001b[39m\u001b[39m=\u001b[39m\u001b[39m\"\u001b[39m\u001b[39mignore\u001b[39m\u001b[39m\"\u001b[39m):\n\u001b[1;32m-> 1381\u001b[0m     result \u001b[39m=\u001b[39m ops\u001b[39m.\u001b[39;49marithmetic_op(lvalues, rvalues, op)\n\u001b[0;32m   1383\u001b[0m \u001b[39mreturn\u001b[39;00m \u001b[39mself\u001b[39m\u001b[39m.\u001b[39m_construct_result(result, name\u001b[39m=\u001b[39mres_name)\n",
      "File \u001b[1;32m~\\AppData\\Local\\Packages\\PythonSoftwareFoundation.Python.3.10_qbz5n2kfra8p0\\LocalCache\\local-packages\\Python310\\site-packages\\pandas\\core\\ops\\array_ops.py:285\u001b[0m, in \u001b[0;36marithmetic_op\u001b[1;34m(left, right, op)\u001b[0m\n\u001b[0;32m    281\u001b[0m     _bool_arith_check(op, left, right)  \u001b[39m# type: ignore[arg-type]\u001b[39;00m\n\u001b[0;32m    283\u001b[0m     \u001b[39m# error: Argument 1 to \"_na_arithmetic_op\" has incompatible type\u001b[39;00m\n\u001b[0;32m    284\u001b[0m     \u001b[39m# \"Union[ExtensionArray, ndarray[Any, Any]]\"; expected \"ndarray[Any, Any]\"\u001b[39;00m\n\u001b[1;32m--> 285\u001b[0m     res_values \u001b[39m=\u001b[39m _na_arithmetic_op(left, right, op)  \u001b[39m# type: ignore[arg-type]\u001b[39;00m\n\u001b[0;32m    287\u001b[0m \u001b[39mreturn\u001b[39;00m res_values\n",
      "File \u001b[1;32m~\\AppData\\Local\\Packages\\PythonSoftwareFoundation.Python.3.10_qbz5n2kfra8p0\\LocalCache\\local-packages\\Python310\\site-packages\\pandas\\core\\ops\\array_ops.py:229\u001b[0m, in \u001b[0;36m_na_arithmetic_op\u001b[1;34m(left, right, op, is_cmp)\u001b[0m\n\u001b[0;32m    221\u001b[0m \u001b[39mexcept\u001b[39;00m \u001b[39mTypeError\u001b[39;00m:\n\u001b[0;32m    222\u001b[0m     \u001b[39mif\u001b[39;00m \u001b[39mnot\u001b[39;00m is_cmp \u001b[39mand\u001b[39;00m (\n\u001b[0;32m    223\u001b[0m         left\u001b[39m.\u001b[39mdtype \u001b[39m==\u001b[39m \u001b[39mobject\u001b[39m \u001b[39mor\u001b[39;00m \u001b[39mgetattr\u001b[39m(right, \u001b[39m\"\u001b[39m\u001b[39mdtype\u001b[39m\u001b[39m\"\u001b[39m, \u001b[39mNone\u001b[39;00m) \u001b[39m==\u001b[39m \u001b[39mobject\u001b[39m\n\u001b[0;32m    224\u001b[0m     ):\n\u001b[1;32m   (...)\u001b[0m\n\u001b[0;32m    227\u001b[0m         \u001b[39m# Don't do this for comparisons, as that will handle complex numbers\u001b[39;00m\n\u001b[0;32m    228\u001b[0m         \u001b[39m#  incorrectly, see GH#32047\u001b[39;00m\n\u001b[1;32m--> 229\u001b[0m         result \u001b[39m=\u001b[39m _masked_arith_op(left, right, op)\n\u001b[0;32m    230\u001b[0m     \u001b[39melse\u001b[39;00m:\n\u001b[0;32m    231\u001b[0m         \u001b[39mraise\u001b[39;00m\n",
      "File \u001b[1;32m~\\AppData\\Local\\Packages\\PythonSoftwareFoundation.Python.3.10_qbz5n2kfra8p0\\LocalCache\\local-packages\\Python310\\site-packages\\pandas\\core\\ops\\array_ops.py:165\u001b[0m, in \u001b[0;36m_masked_arith_op\u001b[1;34m(x, y, op)\u001b[0m\n\u001b[0;32m    163\u001b[0m     \u001b[39m# See GH#5284, GH#5035, GH#19448 for historical reference\u001b[39;00m\n\u001b[0;32m    164\u001b[0m     \u001b[39mif\u001b[39;00m mask\u001b[39m.\u001b[39many():\n\u001b[1;32m--> 165\u001b[0m         result[mask] \u001b[39m=\u001b[39m op(xrav[mask], yrav[mask])\n\u001b[0;32m    167\u001b[0m \u001b[39melse\u001b[39;00m:\n\u001b[0;32m    168\u001b[0m     \u001b[39mif\u001b[39;00m \u001b[39mnot\u001b[39;00m is_scalar(y):\n",
      "\u001b[1;31mTypeError\u001b[0m: unsupported operand type(s) for -: 'str' and 'str'"
     ]
    }
   ],
   "source": [
    "# há quanto tempo as pessoas estão inscritas na Netflix?\n",
    "df_netflix['duracao_assinatura'] = df_netflix['Last Payment Date'] - df_netflix['Join Date']\n",
    "df_netflix['duracao_assinatura'] = df_netflix['duracao_assinatura'].dt.days\n",
    "df_netflix"
   ]
  },
  {
   "cell_type": "code",
   "execution_count": null,
   "id": "c7896553-2c9f-4029-9774-941dff132b1b",
   "metadata": {},
   "outputs": [],
   "source": [
    "# convertendo o tipo de dados para data\n",
    "df_netflix['Last Payment Date'] = pd.to_datetime(df_netflix['Last Payment Date'])\n",
    "df_netflix['Join Date'] = pd.to_datetime(df_netflix['Join Date'])"
   ]
  },
  {
   "cell_type": "code",
   "execution_count": null,
   "id": "084f565d-84e1-4279-9133-9a408656232e",
   "metadata": {
    "colab": {
     "base_uri": "https://localhost:8080/",
     "height": 300
    },
    "id": "084f565d-84e1-4279-9133-9a408656232e",
    "outputId": "57660ae5-6ae1-4735-85c4-9c6610d83a28",
    "tags": []
   },
   "outputs": [],
   "source": [
    "# Com base na função describe() percebemos que a média de tempo que as pessoas se inscrevem é de cerca de 326 dias, quase um ano.\n",
    "# Mas, pera aí, o que são esse números negativos no minimo?\n",
    "df_netflix.describe().T"
   ]
  },
  {
   "cell_type": "code",
   "execution_count": null,
   "id": "f8fe4233-343b-4ecb-8737-d0fc8c747535",
   "metadata": {
    "colab": {
     "base_uri": "https://localhost:8080/",
     "height": 521
    },
    "id": "f8fe4233-343b-4ecb-8737-d0fc8c747535",
    "outputId": "19b57fc8-8a01-4715-829f-b8b7d228e619"
   },
   "outputs": [],
   "source": [
    "# vamos validar esses numeros?\n",
    "df_netflix[(df_netflix['duracao_assinatura'] < 0)]"
   ]
  },
  {
   "cell_type": "code",
   "execution_count": null,
   "id": "48972cd5-1046-401a-814b-07fe5ed1ab98",
   "metadata": {
    "colab": {
     "base_uri": "https://localhost:8080/",
     "height": 488
    },
    "id": "48972cd5-1046-401a-814b-07fe5ed1ab98",
    "outputId": "735e26ab-d17d-449b-c7d6-59d30f042518"
   },
   "outputs": [],
   "source": [
    "# Encontramos 13 valores inconsistentes, onde o dado não faz sentido. Como não possuímos contexto suficiente sobre essa tabela para entender\n",
    "# o motivo de termos dt_ultimo_pagamento maior que dt_assinatura, iremos retirar essas linhas para não enviezar nossos resultados.\n",
    "df_netflix = df_netflix.drop(df_netflix[df_netflix['duracao_assinatura'] < 0].index)\n",
    "df_netflix"
   ]
  },
  {
   "cell_type": "code",
   "execution_count": 11,
   "id": "923f2f9e-04a9-4483-b460-f9ff2b6db9a4",
   "metadata": {
    "colab": {
     "base_uri": "https://localhost:8080/",
     "height": 300
    },
    "id": "923f2f9e-04a9-4483-b460-f9ff2b6db9a4",
    "outputId": "f1d8799f-fbb2-4542-d560-f507ac1fb47d"
   },
   "outputs": [
    {
     "data": {
      "text/html": [
       "<div>\n",
       "<style scoped>\n",
       "    .dataframe tbody tr th:only-of-type {\n",
       "        vertical-align: middle;\n",
       "    }\n",
       "\n",
       "    .dataframe tbody tr th {\n",
       "        vertical-align: top;\n",
       "    }\n",
       "\n",
       "    .dataframe thead th {\n",
       "        text-align: right;\n",
       "    }\n",
       "</style>\n",
       "<table border=\"1\" class=\"dataframe\">\n",
       "  <thead>\n",
       "    <tr style=\"text-align: right;\">\n",
       "      <th></th>\n",
       "      <th>count</th>\n",
       "      <th>mean</th>\n",
       "      <th>std</th>\n",
       "      <th>min</th>\n",
       "      <th>25%</th>\n",
       "      <th>50%</th>\n",
       "      <th>75%</th>\n",
       "      <th>max</th>\n",
       "    </tr>\n",
       "  </thead>\n",
       "  <tbody>\n",
       "    <tr>\n",
       "      <th>User ID</th>\n",
       "      <td>2500.0</td>\n",
       "      <td>1250.5000</td>\n",
       "      <td>721.832160</td>\n",
       "      <td>1.0</td>\n",
       "      <td>625.75</td>\n",
       "      <td>1250.5</td>\n",
       "      <td>1875.25</td>\n",
       "      <td>2500.0</td>\n",
       "    </tr>\n",
       "    <tr>\n",
       "      <th>Monthly Revenue</th>\n",
       "      <td>2500.0</td>\n",
       "      <td>12.5084</td>\n",
       "      <td>1.686851</td>\n",
       "      <td>10.0</td>\n",
       "      <td>11.00</td>\n",
       "      <td>12.0</td>\n",
       "      <td>14.00</td>\n",
       "      <td>15.0</td>\n",
       "    </tr>\n",
       "    <tr>\n",
       "      <th>Age</th>\n",
       "      <td>2500.0</td>\n",
       "      <td>38.7956</td>\n",
       "      <td>7.171778</td>\n",
       "      <td>26.0</td>\n",
       "      <td>32.00</td>\n",
       "      <td>39.0</td>\n",
       "      <td>45.00</td>\n",
       "      <td>51.0</td>\n",
       "    </tr>\n",
       "  </tbody>\n",
       "</table>\n",
       "</div>"
      ],
      "text/plain": [
       "                  count       mean         std   min     25%     50%      75%  \\\n",
       "User ID          2500.0  1250.5000  721.832160   1.0  625.75  1250.5  1875.25   \n",
       "Monthly Revenue  2500.0    12.5084    1.686851  10.0   11.00    12.0    14.00   \n",
       "Age              2500.0    38.7956    7.171778  26.0   32.00    39.0    45.00   \n",
       "\n",
       "                    max  \n",
       "User ID          2500.0  \n",
       "Monthly Revenue    15.0  \n",
       "Age                51.0  "
      ]
     },
     "execution_count": 11,
     "metadata": {},
     "output_type": "execute_result"
    }
   ],
   "source": [
    "# Agora sim, tirando os dados negativos, nossa média de duração de assinatura subiu um pouco, e agora podemos visualizar que o tempo mínimo\n",
    "# que as pessoas assinam a netflix é de 8 dias, e o máximo da base é 776 dias.\n",
    "df_netflix.describe().T"
   ]
  },
  {
   "cell_type": "code",
   "execution_count": null,
   "id": "0db79207-2b3b-49c2-bb4e-b9f09bc1bb41",
   "metadata": {
    "colab": {
     "base_uri": "https://localhost:8080/",
     "height": 488
    },
    "id": "0db79207-2b3b-49c2-bb4e-b9f09bc1bb41",
    "outputId": "4c5ae553-bb18-4fa1-8f23-07e04890246e"
   },
   "outputs": [],
   "source": [
    "# Antes de continuarmos nossa análise, existe mais um passo que devemos fazer: resetar o index. Como retiramos algumas linhas da nossa tabela, o\n",
    "# índice, ou seja, coluna mais à esquerda, porem ela ainda está com o intervalo de 1-2499.\n",
    "\n",
    "df_netflix = df_netflix.reset_index(drop=True)\n",
    "df_netflix\n",
    "\n",
    "# agora sim! nossa coluna de index está coerente. Vamos continuar!"
   ]
  },
  {
   "cell_type": "code",
   "execution_count": null,
   "id": "f1735ad6-08d6-45bf-b7aa-3e9689df7498",
   "metadata": {
    "colab": {
     "base_uri": "https://localhost:8080/"
    },
    "id": "f1735ad6-08d6-45bf-b7aa-3e9689df7498",
    "outputId": "9e428251-ef3a-49f5-a93b-0b658502373e"
   },
   "outputs": [],
   "source": [
    "# outra análise interessante de se fazer, será que existe um mês com um maior número de vendas?\n",
    "df_netflix['dt_mes'] = df_netflix['Join Date'].dt.month\n",
    "dt_inicio = df_netflix['dt_mes'].value_counts()\n",
    "dt_inicio"
   ]
  },
  {
   "cell_type": "code",
   "execution_count": null,
   "id": "72401f9c-d349-4a94-8670-fd2a893807e5",
   "metadata": {
    "colab": {
     "base_uri": "https://localhost:8080/"
    },
    "id": "72401f9c-d349-4a94-8670-fd2a893807e5",
    "outputId": "36444d91-5a45-46a2-d621-80af0791949f"
   },
   "outputs": [],
   "source": [
    "# Utilizando a função value_counts() conseguimos ter uma ideia de qual é a assinatura mais comum, porém, em números absolutos\n",
    "# é dificil entender a proporção entre os 3 planos.\n",
    "tipo_plano = df_netflix[\"Subscription Type\"].value_counts()\n",
    "tipo_plano"
   ]
  },
  {
   "cell_type": "code",
   "execution_count": null,
   "id": "4547fa12-d104-4387-bc93-b97300d1c848",
   "metadata": {
    "colab": {
     "base_uri": "https://localhost:8080/"
    },
    "id": "4547fa12-d104-4387-bc93-b97300d1c848",
    "outputId": "9f899ae2-38bd-4806-a305-dabc94762e17"
   },
   "outputs": [],
   "source": [
    "# Para isso, colocamos um parâmetro dentro da nossa função, e ele nos devolve os valores em porcentagem sobre o total.\n",
    "tipo_plano_perc = df_netflix[\"Subscription Type\"].value_counts(normalize=True)\n",
    "tipo_plano_perc\n",
    "\n",
    "# daqui, percebemos que o pacote mais recorrente é o Basic."
   ]
  },
  {
   "cell_type": "code",
   "execution_count": null,
   "id": "025aa9e4-c95f-4b90-854c-bddd3acaea75",
   "metadata": {
    "colab": {
     "base_uri": "https://localhost:8080/"
    },
    "id": "025aa9e4-c95f-4b90-854c-bddd3acaea75",
    "outputId": "5bd3c0a1-ebfe-42a0-f296-e22e754176d2"
   },
   "outputs": [],
   "source": [
    "# Vamos entender também, quais sao os países com o maior número de assinaturas: em valor absoluto\n",
    "pais_usuario = df_netflix[\"Country\"].value_counts()\n",
    "pais_usuario"
   ]
  },
  {
   "cell_type": "code",
   "execution_count": null,
   "id": "28fa5a3a-46e0-4616-aacc-3b053a5a7b22",
   "metadata": {
    "colab": {
     "base_uri": "https://localhost:8080/"
    },
    "id": "28fa5a3a-46e0-4616-aacc-3b053a5a7b22",
    "outputId": "a90aafb0-e85a-4ad2-becb-c1c054678b01"
   },
   "outputs": [],
   "source": [
    "# Vamos entender também, quais sao os países com o maior número de assinaturas: em percentual\n",
    "pais_usuario_perc = df_netflix[\"Country\"].value_counts(normalize=True)\n",
    "pais_usuario_perc"
   ]
  },
  {
   "cell_type": "code",
   "execution_count": null,
   "id": "8df8914d-2711-4672-bbcb-99c3536d0605",
   "metadata": {
    "colab": {
     "base_uri": "https://localhost:8080/",
     "height": 488
    },
    "id": "8df8914d-2711-4672-bbcb-99c3536d0605",
    "outputId": "d8b9a22e-1dd5-4dc4-d9ba-75d857ccdd26"
   },
   "outputs": [],
   "source": [
    "# Vamos criar intervalos de idade para entender melhor nossos usuários?\n",
    "# Iremos criar categorias de idades com o intervalo de 4 em 4 anos.\n",
    "# ou seja, 20-24, 25-29, 30-34, 35-39, 40-44, 45-49, 50-54, 55-59, +60\n",
    "\n",
    "df_netflix.loc[df_netflix['Age'] < 25, 'grupo_idade'] = '20-24'\n",
    "df_netflix.loc[(df_netflix['Age'] >= 25) & (df_netflix['Age'] < 30), 'grupo_idade'] = '25-29'\n",
    "df_netflix.loc[(df_netflix['Age'] >= 30) & (df_netflix['Age'] < 35), 'grupo_idade'] = '30-34'\n",
    "df_netflix.loc[(df_netflix['Age'] >= 35) & (df_netflix['Age'] < 40), 'grupo_idade'] = '35-39'\n",
    "df_netflix.loc[(df_netflix['Age'] >= 40) & (df_netflix['Age'] < 45), 'grupo_idade'] = '40-44'\n",
    "df_netflix.loc[(df_netflix['Age'] >= 45) & (df_netflix['Age'] < 50), 'grupo_idade'] = '45-49'\n",
    "df_netflix.loc[(df_netflix['Age'] >= 50) & (df_netflix['Age'] < 55), 'grupo_idade'] = '50-54'\n",
    "df_netflix.loc[(df_netflix['Age'] >= 55) & (df_netflix['Age'] < 60), 'grupo_idade'] = '54-59'\n",
    "df_netflix.loc[df_netflix['Age'] >= 60, 'grupo_idade'] = '60+'\n",
    "\n",
    "df_netflix"
   ]
  },
  {
   "cell_type": "code",
   "execution_count": null,
   "id": "cffde143-29ba-4aa6-a463-b8b02ab0f1e3",
   "metadata": {
    "colab": {
     "base_uri": "https://localhost:8080/"
    },
    "id": "cffde143-29ba-4aa6-a463-b8b02ab0f1e3",
    "outputId": "956f4ba6-c798-45a1-816c-181f1473a56c"
   },
   "outputs": [],
   "source": [
    "# com o grupo de idades feito, qual será a faixa etária mais recorrente?\n",
    "grupo_idade = df_netflix[\"grupo_idade\"].value_counts()\n",
    "grupo_idade"
   ]
  },
  {
   "cell_type": "markdown",
   "id": "a8890a5e-3392-44a3-978f-a15cc5bb849d",
   "metadata": {},
   "source": [
    "# Visualização dos dados"
   ]
  },
  {
   "cell_type": "code",
   "execution_count": 12,
   "metadata": {},
   "outputs": [
    {
     "name": "stdout",
     "output_type": "stream",
     "text": [
      "Collecting seaborn\n",
      "  Downloading seaborn-0.13.0-py3-none-any.whl (294 kB)\n",
      "     ---------------------------------------- 0.0/294.6 kB ? eta -:--:--\n",
      "     -------------------------------------- 294.6/294.6 kB 9.2 MB/s eta 0:00:00\n",
      "Requirement already satisfied: pandas>=1.2 in c:\\users\\jheni\\appdata\\local\\packages\\pythonsoftwarefoundation.python.3.10_qbz5n2kfra8p0\\localcache\\local-packages\\python310\\site-packages (from seaborn) (2.1.1)\n",
      "Requirement already satisfied: matplotlib!=3.6.1,>=3.3 in c:\\users\\jheni\\appdata\\local\\packages\\pythonsoftwarefoundation.python.3.10_qbz5n2kfra8p0\\localcache\\local-packages\\python310\\site-packages (from seaborn) (3.8.0)\n",
      "Requirement already satisfied: numpy!=1.24.0,>=1.20 in c:\\users\\jheni\\appdata\\local\\packages\\pythonsoftwarefoundation.python.3.10_qbz5n2kfra8p0\\localcache\\local-packages\\python310\\site-packages (from seaborn) (1.26.0)\n",
      "Requirement already satisfied: kiwisolver>=1.0.1 in c:\\users\\jheni\\appdata\\local\\packages\\pythonsoftwarefoundation.python.3.10_qbz5n2kfra8p0\\localcache\\local-packages\\python310\\site-packages (from matplotlib!=3.6.1,>=3.3->seaborn) (1.4.5)\n",
      "Requirement already satisfied: python-dateutil>=2.7 in c:\\users\\jheni\\appdata\\local\\packages\\pythonsoftwarefoundation.python.3.10_qbz5n2kfra8p0\\localcache\\local-packages\\python310\\site-packages (from matplotlib!=3.6.1,>=3.3->seaborn) (2.8.2)\n",
      "Requirement already satisfied: fonttools>=4.22.0 in c:\\users\\jheni\\appdata\\local\\packages\\pythonsoftwarefoundation.python.3.10_qbz5n2kfra8p0\\localcache\\local-packages\\python310\\site-packages (from matplotlib!=3.6.1,>=3.3->seaborn) (4.43.1)\n",
      "Requirement already satisfied: pillow>=6.2.0 in c:\\users\\jheni\\appdata\\local\\packages\\pythonsoftwarefoundation.python.3.10_qbz5n2kfra8p0\\localcache\\local-packages\\python310\\site-packages (from matplotlib!=3.6.1,>=3.3->seaborn) (10.1.0)\n",
      "Requirement already satisfied: packaging>=20.0 in c:\\users\\jheni\\appdata\\local\\packages\\pythonsoftwarefoundation.python.3.10_qbz5n2kfra8p0\\localcache\\local-packages\\python310\\site-packages (from matplotlib!=3.6.1,>=3.3->seaborn) (23.2)\n",
      "Requirement already satisfied: pyparsing>=2.3.1 in c:\\users\\jheni\\appdata\\local\\packages\\pythonsoftwarefoundation.python.3.10_qbz5n2kfra8p0\\localcache\\local-packages\\python310\\site-packages (from matplotlib!=3.6.1,>=3.3->seaborn) (3.1.1)\n",
      "Requirement already satisfied: contourpy>=1.0.1 in c:\\users\\jheni\\appdata\\local\\packages\\pythonsoftwarefoundation.python.3.10_qbz5n2kfra8p0\\localcache\\local-packages\\python310\\site-packages (from matplotlib!=3.6.1,>=3.3->seaborn) (1.1.1)\n",
      "Requirement already satisfied: cycler>=0.10 in c:\\users\\jheni\\appdata\\local\\packages\\pythonsoftwarefoundation.python.3.10_qbz5n2kfra8p0\\localcache\\local-packages\\python310\\site-packages (from matplotlib!=3.6.1,>=3.3->seaborn) (0.12.1)\n",
      "Requirement already satisfied: tzdata>=2022.1 in c:\\users\\jheni\\appdata\\local\\packages\\pythonsoftwarefoundation.python.3.10_qbz5n2kfra8p0\\localcache\\local-packages\\python310\\site-packages (from pandas>=1.2->seaborn) (2023.3)\n",
      "Requirement already satisfied: pytz>=2020.1 in c:\\users\\jheni\\appdata\\local\\packages\\pythonsoftwarefoundation.python.3.10_qbz5n2kfra8p0\\localcache\\local-packages\\python310\\site-packages (from pandas>=1.2->seaborn) (2023.3.post1)\n",
      "Requirement already satisfied: six>=1.5 in c:\\users\\jheni\\appdata\\local\\packages\\pythonsoftwarefoundation.python.3.10_qbz5n2kfra8p0\\localcache\\local-packages\\python310\\site-packages (from python-dateutil>=2.7->matplotlib!=3.6.1,>=3.3->seaborn) (1.16.0)\n",
      "Installing collected packages: seaborn\n",
      "Successfully installed seaborn-0.13.0\n",
      "Note: you may need to restart the kernel to use updated packages.\n"
     ]
    },
    {
     "name": "stderr",
     "output_type": "stream",
     "text": [
      "\n",
      "[notice] A new release of pip is available: 23.0.1 -> 23.3.1\n",
      "[notice] To update, run: C:\\Users\\jheni\\AppData\\Local\\Microsoft\\WindowsApps\\PythonSoftwareFoundation.Python.3.10_qbz5n2kfra8p0\\python.exe -m pip install --upgrade pip\n"
     ]
    }
   ],
   "source": [
    "%pip install seaborn"
   ]
  },
  {
   "cell_type": "code",
   "execution_count": 13,
   "id": "8bebc3f2-3bca-4564-9ffc-89a113e0ae0a",
   "metadata": {},
   "outputs": [
    {
     "name": "stderr",
     "output_type": "stream",
     "text": [
      "Matplotlib is building the font cache; this may take a moment.\n"
     ]
    }
   ],
   "source": [
    "# importando os pacotes que iremos utilizar\n",
    "import matplotlib.pyplot as plt\n",
    "import seaborn as sns"
   ]
  },
  {
   "cell_type": "code",
   "execution_count": 15,
   "id": "5dc82e76-9b58-4fb4-a31a-427b7af779f1",
   "metadata": {
    "colab": {
     "base_uri": "https://localhost:8080/",
     "height": 565
    },
    "id": "5dc82e76-9b58-4fb4-a31a-427b7af779f1",
    "outputId": "b29eda6d-df06-4ce7-f253-f46cfc68ca40"
   },
   "outputs": [
    {
     "data": {
      "image/png": "[encoded data removed]",
      "text/plain": [
       "<Figure size 800x600 with 1 Axes>"
      ]
     },
     "metadata": {},
     "output_type": "display_data"
    }
   ],
   "source": [
    "# definir tamanho da figura\n",
    "plt.figure(figsize=(8, 6))\n",
    "\n",
    "# instanciar o tipo de plotagem, no caso, um countplot usando x como as faixas etárias\n",
    "sns.countplot(data = df_netflix,\n",
    "              x = 'Age')\n",
    "\n",
    "# definir texto do título e eixos x e y\n",
    "plt.title('Contagem de faixas etárias')\n",
    "plt.xlabel('Faixa etária')\n",
    "plt.ylabel('Contagem')\n",
    "\n",
    "plt.show()"
   ]
  },
  {
   "cell_type": "code",
   "execution_count": 22,
   "id": "-QnTSt8BWt6W",
   "metadata": {
    "colab": {
     "base_uri": "https://localhost:8080/",
     "height": 564
    },
    "id": "-QnTSt8BWt6W",
    "outputId": "3d0b4b43-e582-4443-b6d0-ac04794a5ee6"
   },
   "outputs": [
    {
     "ename": "ValueError",
     "evalue": "Could not interpret value `Tablet` for `hue`. An entry with this name does not appear in `data`.",
     "output_type": "error",
     "traceback": [
      "\u001b[1;31m---------------------------------------------------------------------------\u001b[0m",
      "\u001b[1;31mValueError\u001b[0m                                Traceback (most recent call last)",
      "\u001b[1;32mc:\\Users\\jheni\\on26-python-s14-analise-de-dados\\material\\aula_s14_parte1.ipynb Cell 39\u001b[0m line \u001b[0;36m5\n\u001b[0;32m      <a href='vscode-notebook-cell:/c%3A/Users/jheni/on26-python-s14-analise-de-dados/material/aula_s14_parte1.ipynb#X52sZmlsZQ%3D%3D?line=1'>2</a>\u001b[0m plt\u001b[39m.\u001b[39mfigure(figsize\u001b[39m=\u001b[39m(\u001b[39m8\u001b[39m, \u001b[39m6\u001b[39m))\n\u001b[0;32m      <a href='vscode-notebook-cell:/c%3A/Users/jheni/on26-python-s14-analise-de-dados/material/aula_s14_parte1.ipynb#X52sZmlsZQ%3D%3D?line=3'>4</a>\u001b[0m \u001b[39m# instanciar o tipo de plotagem, no caso, um countplot usando x como os tipos de plano\u001b[39;00m\n\u001b[1;32m----> <a href='vscode-notebook-cell:/c%3A/Users/jheni/on26-python-s14-analise-de-dados/material/aula_s14_parte1.ipynb#X52sZmlsZQ%3D%3D?line=4'>5</a>\u001b[0m sns\u001b[39m.\u001b[39;49mcountplot(data \u001b[39m=\u001b[39;49m df_netflix,\n\u001b[0;32m      <a href='vscode-notebook-cell:/c%3A/Users/jheni/on26-python-s14-analise-de-dados/material/aula_s14_parte1.ipynb#X52sZmlsZQ%3D%3D?line=5'>6</a>\u001b[0m               x \u001b[39m=\u001b[39;49m \u001b[39m'\u001b[39;49m\u001b[39mDevice\u001b[39;49m\u001b[39m'\u001b[39;49m,\n\u001b[0;32m      <a href='vscode-notebook-cell:/c%3A/Users/jheni/on26-python-s14-analise-de-dados/material/aula_s14_parte1.ipynb#X52sZmlsZQ%3D%3D?line=6'>7</a>\u001b[0m               hue \u001b[39m=\u001b[39;49m \u001b[39m'\u001b[39;49m\u001b[39mTablet\u001b[39;49m\u001b[39m'\u001b[39;49m)\n\u001b[0;32m      <a href='vscode-notebook-cell:/c%3A/Users/jheni/on26-python-s14-analise-de-dados/material/aula_s14_parte1.ipynb#X52sZmlsZQ%3D%3D?line=8'>9</a>\u001b[0m \u001b[39m# definir texto do título e eixos x e y\u001b[39;00m\n\u001b[0;32m     <a href='vscode-notebook-cell:/c%3A/Users/jheni/on26-python-s14-analise-de-dados/material/aula_s14_parte1.ipynb#X52sZmlsZQ%3D%3D?line=9'>10</a>\u001b[0m plt\u001b[39m.\u001b[39mtitle(\u001b[39m'\u001b[39m\u001b[39mContagem dos tipos de plano de assinatura\u001b[39m\u001b[39m'\u001b[39m)\n",
      "File \u001b[1;32m~\\AppData\\Local\\Packages\\PythonSoftwareFoundation.Python.3.10_qbz5n2kfra8p0\\LocalCache\\local-packages\\Python310\\site-packages\\seaborn\\categorical.py:2615\u001b[0m, in \u001b[0;36mcountplot\u001b[1;34m(data, x, y, hue, order, hue_order, orient, color, palette, saturation, fill, hue_norm, stat, width, dodge, gap, log_scale, native_scale, formatter, legend, ax, **kwargs)\u001b[0m\n\u001b[0;32m   2612\u001b[0m \u001b[39melif\u001b[39;00m x \u001b[39mis\u001b[39;00m \u001b[39mnot\u001b[39;00m \u001b[39mNone\u001b[39;00m \u001b[39mand\u001b[39;00m y \u001b[39mis\u001b[39;00m \u001b[39mnot\u001b[39;00m \u001b[39mNone\u001b[39;00m:\n\u001b[0;32m   2613\u001b[0m     \u001b[39mraise\u001b[39;00m \u001b[39mTypeError\u001b[39;00m(\u001b[39m\"\u001b[39m\u001b[39mCannot pass values for both `x` and `y`.\u001b[39m\u001b[39m\"\u001b[39m)\n\u001b[1;32m-> 2615\u001b[0m p \u001b[39m=\u001b[39m _CategoricalAggPlotter(\n\u001b[0;32m   2616\u001b[0m     data\u001b[39m=\u001b[39;49mdata,\n\u001b[0;32m   2617\u001b[0m     variables\u001b[39m=\u001b[39;49m\u001b[39mdict\u001b[39;49m(x\u001b[39m=\u001b[39;49mx, y\u001b[39m=\u001b[39;49my, hue\u001b[39m=\u001b[39;49mhue),\n\u001b[0;32m   2618\u001b[0m     order\u001b[39m=\u001b[39;49morder,\n\u001b[0;32m   2619\u001b[0m     orient\u001b[39m=\u001b[39;49morient,\n\u001b[0;32m   2620\u001b[0m     color\u001b[39m=\u001b[39;49mcolor,\n\u001b[0;32m   2621\u001b[0m     legend\u001b[39m=\u001b[39;49mlegend,\n\u001b[0;32m   2622\u001b[0m )\n\u001b[0;32m   2624\u001b[0m \u001b[39mif\u001b[39;00m ax \u001b[39mis\u001b[39;00m \u001b[39mNone\u001b[39;00m:\n\u001b[0;32m   2625\u001b[0m     ax \u001b[39m=\u001b[39m plt\u001b[39m.\u001b[39mgca()\n",
      "File \u001b[1;32m~\\AppData\\Local\\Packages\\PythonSoftwareFoundation.Python.3.10_qbz5n2kfra8p0\\LocalCache\\local-packages\\Python310\\site-packages\\seaborn\\categorical.py:62\u001b[0m, in \u001b[0;36m_CategoricalPlotter.__init__\u001b[1;34m(self, data, variables, order, orient, require_numeric, color, legend)\u001b[0m\n\u001b[0;32m     51\u001b[0m \u001b[39mdef\u001b[39;00m \u001b[39m__init__\u001b[39m(\n\u001b[0;32m     52\u001b[0m     \u001b[39mself\u001b[39m,\n\u001b[0;32m     53\u001b[0m     data\u001b[39m=\u001b[39m\u001b[39mNone\u001b[39;00m,\n\u001b[1;32m   (...)\u001b[0m\n\u001b[0;32m     59\u001b[0m     legend\u001b[39m=\u001b[39m\u001b[39m\"\u001b[39m\u001b[39mauto\u001b[39m\u001b[39m\"\u001b[39m,\n\u001b[0;32m     60\u001b[0m ):\n\u001b[1;32m---> 62\u001b[0m     \u001b[39msuper\u001b[39;49m()\u001b[39m.\u001b[39;49m\u001b[39m__init__\u001b[39;49m(data\u001b[39m=\u001b[39;49mdata, variables\u001b[39m=\u001b[39;49mvariables)\n\u001b[0;32m     64\u001b[0m     \u001b[39m# This method takes care of some bookkeeping that is necessary because the\u001b[39;00m\n\u001b[0;32m     65\u001b[0m     \u001b[39m# original categorical plots (prior to the 2021 refactor) had some rules that\u001b[39;00m\n\u001b[0;32m     66\u001b[0m     \u001b[39m# don't fit exactly into VectorPlotter logic. It may be wise to have a second\u001b[39;00m\n\u001b[1;32m   (...)\u001b[0m\n\u001b[0;32m     71\u001b[0m     \u001b[39m# default VectorPlotter rules. If we do decide to make orient part of the\u001b[39;00m\n\u001b[0;32m     72\u001b[0m     \u001b[39m# _base variable assignment, we'll want to figure out how to express that.\u001b[39;00m\n\u001b[0;32m     73\u001b[0m     \u001b[39mif\u001b[39;00m \u001b[39mself\u001b[39m\u001b[39m.\u001b[39minput_format \u001b[39m==\u001b[39m \u001b[39m\"\u001b[39m\u001b[39mwide\u001b[39m\u001b[39m\"\u001b[39m \u001b[39mand\u001b[39;00m orient \u001b[39min\u001b[39;00m [\u001b[39m\"\u001b[39m\u001b[39mh\u001b[39m\u001b[39m\"\u001b[39m, \u001b[39m\"\u001b[39m\u001b[39my\u001b[39m\u001b[39m\"\u001b[39m]:\n",
      "File \u001b[1;32m~\\AppData\\Local\\Packages\\PythonSoftwareFoundation.Python.3.10_qbz5n2kfra8p0\\LocalCache\\local-packages\\Python310\\site-packages\\seaborn\\_base.py:634\u001b[0m, in \u001b[0;36mVectorPlotter.__init__\u001b[1;34m(self, data, variables)\u001b[0m\n\u001b[0;32m    629\u001b[0m \u001b[39m# var_ordered is relevant only for categorical axis variables, and may\u001b[39;00m\n\u001b[0;32m    630\u001b[0m \u001b[39m# be better handled by an internal axis information object that tracks\u001b[39;00m\n\u001b[0;32m    631\u001b[0m \u001b[39m# such information and is set up by the scale_* methods. The analogous\u001b[39;00m\n\u001b[0;32m    632\u001b[0m \u001b[39m# information for numeric axes would be information about log scales.\u001b[39;00m\n\u001b[0;32m    633\u001b[0m \u001b[39mself\u001b[39m\u001b[39m.\u001b[39m_var_ordered \u001b[39m=\u001b[39m {\u001b[39m\"\u001b[39m\u001b[39mx\u001b[39m\u001b[39m\"\u001b[39m: \u001b[39mFalse\u001b[39;00m, \u001b[39m\"\u001b[39m\u001b[39my\u001b[39m\u001b[39m\"\u001b[39m: \u001b[39mFalse\u001b[39;00m}  \u001b[39m# alt., used DefaultDict\u001b[39;00m\n\u001b[1;32m--> 634\u001b[0m \u001b[39mself\u001b[39;49m\u001b[39m.\u001b[39;49massign_variables(data, variables)\n\u001b[0;32m    636\u001b[0m \u001b[39m# TODO Lots of tests assume that these are called to initialize the\u001b[39;00m\n\u001b[0;32m    637\u001b[0m \u001b[39m# mappings to default values on class initialization. I'd prefer to\u001b[39;00m\n\u001b[0;32m    638\u001b[0m \u001b[39m# move away from that and only have a mapping when explicitly called.\u001b[39;00m\n\u001b[0;32m    639\u001b[0m \u001b[39mfor\u001b[39;00m var \u001b[39min\u001b[39;00m [\u001b[39m\"\u001b[39m\u001b[39mhue\u001b[39m\u001b[39m\"\u001b[39m, \u001b[39m\"\u001b[39m\u001b[39msize\u001b[39m\u001b[39m\"\u001b[39m, \u001b[39m\"\u001b[39m\u001b[39mstyle\u001b[39m\u001b[39m\"\u001b[39m]:\n",
      "File \u001b[1;32m~\\AppData\\Local\\Packages\\PythonSoftwareFoundation.Python.3.10_qbz5n2kfra8p0\\LocalCache\\local-packages\\Python310\\site-packages\\seaborn\\_base.py:679\u001b[0m, in \u001b[0;36mVectorPlotter.assign_variables\u001b[1;34m(self, data, variables)\u001b[0m\n\u001b[0;32m    674\u001b[0m \u001b[39melse\u001b[39;00m:\n\u001b[0;32m    675\u001b[0m     \u001b[39m# When dealing with long-form input, use the newer PlotData\u001b[39;00m\n\u001b[0;32m    676\u001b[0m     \u001b[39m# object (internal but introduced for the objects interface)\u001b[39;00m\n\u001b[0;32m    677\u001b[0m     \u001b[39m# to centralize / standardize data consumption logic.\u001b[39;00m\n\u001b[0;32m    678\u001b[0m     \u001b[39mself\u001b[39m\u001b[39m.\u001b[39minput_format \u001b[39m=\u001b[39m \u001b[39m\"\u001b[39m\u001b[39mlong\u001b[39m\u001b[39m\"\u001b[39m\n\u001b[1;32m--> 679\u001b[0m     plot_data \u001b[39m=\u001b[39m PlotData(data, variables)\n\u001b[0;32m    680\u001b[0m     frame \u001b[39m=\u001b[39m plot_data\u001b[39m.\u001b[39mframe\n\u001b[0;32m    681\u001b[0m     names \u001b[39m=\u001b[39m plot_data\u001b[39m.\u001b[39mnames\n",
      "File \u001b[1;32m~\\AppData\\Local\\Packages\\PythonSoftwareFoundation.Python.3.10_qbz5n2kfra8p0\\LocalCache\\local-packages\\Python310\\site-packages\\seaborn\\_core\\data.py:58\u001b[0m, in \u001b[0;36mPlotData.__init__\u001b[1;34m(self, data, variables)\u001b[0m\n\u001b[0;32m     51\u001b[0m \u001b[39mdef\u001b[39;00m \u001b[39m__init__\u001b[39m(\n\u001b[0;32m     52\u001b[0m     \u001b[39mself\u001b[39m,\n\u001b[0;32m     53\u001b[0m     data: DataSource,\n\u001b[0;32m     54\u001b[0m     variables: \u001b[39mdict\u001b[39m[\u001b[39mstr\u001b[39m, VariableSpec],\n\u001b[0;32m     55\u001b[0m ):\n\u001b[0;32m     57\u001b[0m     data \u001b[39m=\u001b[39m handle_data_source(data)\n\u001b[1;32m---> 58\u001b[0m     frame, names, ids \u001b[39m=\u001b[39m \u001b[39mself\u001b[39;49m\u001b[39m.\u001b[39;49m_assign_variables(data, variables)\n\u001b[0;32m     60\u001b[0m     \u001b[39mself\u001b[39m\u001b[39m.\u001b[39mframe \u001b[39m=\u001b[39m frame\n\u001b[0;32m     61\u001b[0m     \u001b[39mself\u001b[39m\u001b[39m.\u001b[39mnames \u001b[39m=\u001b[39m names\n",
      "File \u001b[1;32m~\\AppData\\Local\\Packages\\PythonSoftwareFoundation.Python.3.10_qbz5n2kfra8p0\\LocalCache\\local-packages\\Python310\\site-packages\\seaborn\\_core\\data.py:232\u001b[0m, in \u001b[0;36mPlotData._assign_variables\u001b[1;34m(self, data, variables)\u001b[0m\n\u001b[0;32m    230\u001b[0m     \u001b[39melse\u001b[39;00m:\n\u001b[0;32m    231\u001b[0m         err \u001b[39m+\u001b[39m\u001b[39m=\u001b[39m \u001b[39m\"\u001b[39m\u001b[39mAn entry with this name does not appear in `data`.\u001b[39m\u001b[39m\"\u001b[39m\n\u001b[1;32m--> 232\u001b[0m     \u001b[39mraise\u001b[39;00m \u001b[39mValueError\u001b[39;00m(err)\n\u001b[0;32m    234\u001b[0m \u001b[39melse\u001b[39;00m:\n\u001b[0;32m    235\u001b[0m \n\u001b[0;32m    236\u001b[0m     \u001b[39m# Otherwise, assume the value somehow represents data\u001b[39;00m\n\u001b[0;32m    237\u001b[0m \n\u001b[0;32m    238\u001b[0m     \u001b[39m# Ignore empty data structures\u001b[39;00m\n\u001b[0;32m    239\u001b[0m     \u001b[39mif\u001b[39;00m \u001b[39misinstance\u001b[39m(val, Sized) \u001b[39mand\u001b[39;00m \u001b[39mlen\u001b[39m(val) \u001b[39m==\u001b[39m \u001b[39m0\u001b[39m:\n",
      "\u001b[1;31mValueError\u001b[0m: Could not interpret value `Tablet` for `hue`. An entry with this name does not appear in `data`."
     ]
    },
    {
     "data": {
      "text/plain": [
       "<Figure size 800x600 with 0 Axes>"
      ]
     },
     "metadata": {},
     "output_type": "display_data"
    }
   ],
   "source": [
    "# definir tamanho da figura\n",
    "plt.figure(figsize=(8, 6))\n",
    "\n",
    "# instanciar o tipo de plotagem, no caso, um countplot usando x como os tipos de plano\n",
    "sns.countplot(data = df_netflix,\n",
    "              x = 'Device',\n",
    "              hue = 'Tablet')\n",
    "\n",
    "# definir texto do título e eixos x e y\n",
    "plt.title('Contagem dos tipos de plano de assinatura')\n",
    "plt.xlabel('Plano de assinatura')\n",
    "plt.ylabel('Contagem')\n",
    "\n",
    "plt.show()"
   ]
  },
  {
   "cell_type": "code",
   "execution_count": 20,
   "id": "-Lr-RR87Y5aa",
   "metadata": {
    "colab": {
     "base_uri": "https://localhost:8080/",
     "height": 565
    },
    "id": "-Lr-RR87Y5aa",
    "outputId": "311acff8-00a4-4370-ee06-d6c33bc8b64f"
   },
   "outputs": [
    {
     "data": {
      "image/png": "[encoded data removed]",
      "text/plain": [
       "<Figure size 1000x600 with 1 Axes>"
      ]
     },
     "metadata": {},
     "output_type": "display_data"
    }
   ],
   "source": [
    "# definir tamanho da figura\n",
    "plt.figure(figsize=(10, 6))\n",
    "\n",
    "# instanciar o tipo de plotagem, no caso, um countplot usando x como os tipos\n",
    "# de plano com tonalidades das barras definidas pela faixa etária\n",
    "\n",
    "sns.countplot(data = df_netflix,\n",
    "              x = 'Subscription Type',\n",
    "              hue = 'Age')\n",
    "\n",
    "# definir texto do título e eixos x e y\n",
    "\n",
    "plt.title('Planos de assinatura por faixa etária')\n",
    "plt.xlabel('Faixa etária')\n",
    "plt.ylabel('Contagem')\n",
    "\n",
    "# plotar e definir texto da legenda\n",
    "\n",
    "plt.legend(title = 'Faixa etária')\n",
    "\n",
    "plt.show()"
   ]
  },
  {
   "cell_type": "code",
   "execution_count": 21,
   "id": "9ee6qB-dZU3G",
   "metadata": {
    "colab": {
     "base_uri": "https://localhost:8080/",
     "height": 618
    },
    "id": "9ee6qB-dZU3G",
    "outputId": "236324dc-cf0d-4135-d5dd-3fe2c760ea8f"
   },
   "outputs": [
    {
     "data": {
      "image/png": "[encoded data removed]",
      "text/plain": [
       "<Figure size 1200x600 with 1 Axes>"
      ]
     },
     "metadata": {},
     "output_type": "display_data"
    }
   ],
   "source": [
    "# definir tamanho da figura\n",
    "plt.figure(figsize=(12, 6))\n",
    "\n",
    "# instanciar o tipo de plotagem, no caso, um countplot usando x como os países\n",
    "# com tonalidades das barras definidas pela faixa etária\n",
    "\n",
    "sns.countplot(data = df_netflix,\n",
    "              x = 'Country',\n",
    "              hue = 'Age')\n",
    "\n",
    "# definir texto do título e eixos x e y\n",
    "\n",
    "plt.title('Países por faixa etária')\n",
    "plt.xlabel('País')\n",
    "plt.ylabel('Contagem')\n",
    "\n",
    "# como o texto do eixo x é longo, podemos rotacioná-lo para melhorar a visualização\n",
    "\n",
    "plt.xticks(rotation=330)\n",
    "\n",
    "# plotar e definir texto da legenda\n",
    "\n",
    "plt.legend(title = 'Faixa etária')\n",
    "\n",
    "plt.show()"
   ]
  },
  {
   "cell_type": "code",
   "execution_count": 23,
   "id": "kOccK1bGagPO",
   "metadata": {
    "colab": {
     "base_uri": "https://localhost:8080/",
     "height": 618
    },
    "id": "kOccK1bGagPO",
    "outputId": "a8159ef8-49a6-4ef5-d039-ac61ae866ef0"
   },
   "outputs": [
    {
     "data": {
      "image/png": "[encoded data removed]",
      "text/plain": [
       "<Figure size 1200x600 with 1 Axes>"
      ]
     },
     "metadata": {},
     "output_type": "display_data"
    }
   ],
   "source": [
    "# definir tamanho da figura\n",
    "\n",
    "plt.figure(figsize=(12, 6))\n",
    "\n",
    "# instanciar o tipo de plotagem, no caso, um countplot usando x como os países\n",
    "# com tonalidades das barras definidas pelo tipo de plano\n",
    "\n",
    "sns.countplot(data = df_netflix,\n",
    "              x = 'Country',\n",
    "              hue = 'Subscription Type')\n",
    "\n",
    "# definir texto do título e eixos x e y\n",
    "\n",
    "plt.title('Países por tipo de plano')\n",
    "plt.xlabel('País')\n",
    "plt.ylabel('Contagem')\n",
    "\n",
    "# como o texto do eixo x é longo, podemos rotacioná-lo para melhorar a visualização\n",
    "\n",
    "plt.xticks(rotation=330)\n",
    "\n",
    "# plotar e definir texto da legenda\n",
    "\n",
    "plt.legend(title = 'Tipo de plano')\n",
    "\n",
    "plt.show()"
   ]
  },
  {
   "cell_type": "markdown",
   "id": "04b822fd-1ec8-4d3b-9e0a-9508c88210f7",
   "metadata": {},
   "source": [
    "# Hora de praticar\n",
    "\n",
    "Agora é sua vez de colocar a mão na massa! Em grupos, respondam as seguintes perguntas sobre os dados:\n",
    "\n",
    "1. Quantos usuários utilizam a Netflix pelo Tablet?\n",
    "2. Qual é a representatividade (em %) do sistema operacional mais utilizado para assistir Netflix?\n",
    "3. Crie visualizações que responda as seguintes perguntas:\n",
    "    1. Qual é o sistema operacional mais usado para cada faixa etária? Existe algum padrão? O tipo de aparelho muda de acordo com o grupo de idade?\n",
    "    2. No Brasil, qual é o sistema operacional mais utilizado?"
   ]
  },
  {
   "cell_type": "code",
   "execution_count": 27,
   "metadata": {},
   "outputs": [
    {
     "data": {
      "text/html": [
       "<div>\n",
       "<style scoped>\n",
       "    .dataframe tbody tr th:only-of-type {\n",
       "        vertical-align: middle;\n",
       "    }\n",
       "\n",
       "    .dataframe tbody tr th {\n",
       "        vertical-align: top;\n",
       "    }\n",
       "\n",
       "    .dataframe thead th {\n",
       "        text-align: right;\n",
       "    }\n",
       "</style>\n",
       "<table border=\"1\" class=\"dataframe\">\n",
       "  <thead>\n",
       "    <tr style=\"text-align: right;\">\n",
       "      <th></th>\n",
       "      <th>Device</th>\n",
       "      <th>count</th>\n",
       "    </tr>\n",
       "  </thead>\n",
       "  <tbody>\n",
       "    <tr>\n",
       "      <th>1</th>\n",
       "      <td>Tablet</td>\n",
       "      <td>633</td>\n",
       "    </tr>\n",
       "  </tbody>\n",
       "</table>\n",
       "</div>"
      ],
      "text/plain": [
       "   Device  count\n",
       "1  Tablet    633"
      ]
     },
     "execution_count": 27,
     "metadata": {},
     "output_type": "execute_result"
    }
   ],
   "source": [
    "tablet = df_netflix['Device'].value_counts().reset_index()\n",
    "tablet[tablet['Device'] == 'Tablet']\n",
    "#Resposta 633"
   ]
  },
  {
   "cell_type": "code",
   "execution_count": 28,
   "metadata": {},
   "outputs": [
    {
     "data": {
      "text/plain": [
       "Device\n",
       "Laptop        0.2544\n",
       "Tablet        0.2532\n",
       "Smartphone    0.2484\n",
       "Smart TV      0.2440\n",
       "Name: proportion, dtype: float64"
      ]
     },
     "execution_count": 28,
     "metadata": {},
     "output_type": "execute_result"
    }
   ],
   "source": [
    "df_netflix['Device'].value_counts(normalize=True)"
   ]
  },
  {
   "cell_type": "code",
   "execution_count": 31,
   "metadata": {},
   "outputs": [
    {
     "name": "stderr",
     "output_type": "stream",
     "text": [
      "No artists with labels found to put in legend.  Note that artists whose label start with an underscore are ignored when legend() is called with no argument.\n"
     ]
    },
    {
     "data": {
      "image/png": "[encoded data removed]",
      "text/plain": [
       "<Figure size 1000x600 with 1 Axes>"
      ]
     },
     "metadata": {},
     "output_type": "display_data"
    }
   ],
   "source": [
    "plt.figure(figsize=(10, 6))\n",
    "\n",
    "# instanciar o tipo de plotagem, no caso, um countplot usando x como os tipos\n",
    "# de plano com tonalidades das barras definidas pela faixa etária\n",
    "\n",
    "sns.countplot(data = df_netflix,\n",
    "              x = 'Device')\n",
    "\n",
    "# definir texto do título e eixos x e y\n",
    "\n",
    "plt.title('S.O por Faixa etária')\n",
    "plt.xlabel('Faixa etária')\n",
    "plt.ylabel('Contagem')\n",
    "\n",
    "# plotar e definir texto da legenda\n",
    "\n",
    "plt.legend(title = 'Faixa etária')\n",
    "\n",
    "plt.show()"
   ]
  },
  {
   "cell_type": "code",
   "execution_count": null,
   "metadata": {},
   "outputs": [],
   "source": []
  }
 ],
 "metadata": {
  "colab": {
   "provenance": []
  },
  "kernelspec": {
   "display_name": "Python 3 (ipykernel)",
   "language": "python",
   "name": "python3"
  },
  "language_info": {
   "codemirror_mode": {
    "name": "ipython",
    "version": 3
   },
   "file_extension": ".py",
   "mimetype": "text/x-python",
   "name": "python",
   "nbconvert_exporter": "python",
   "pygments_lexer": "ipython3",
   "version": "3.10.11"
  }
 },
 "nbformat": 4,
 "nbformat_minor": 5
}
